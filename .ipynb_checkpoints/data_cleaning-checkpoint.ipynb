{
 "cells": [
  {
   "cell_type": "code",
   "execution_count": 1,
   "id": "499fd765",
   "metadata": {},
   "outputs": [
    {
     "data": {
      "text/html": [
       "<div>\n",
       "<style scoped>\n",
       "    .dataframe tbody tr th:only-of-type {\n",
       "        vertical-align: middle;\n",
       "    }\n",
       "\n",
       "    .dataframe tbody tr th {\n",
       "        vertical-align: top;\n",
       "    }\n",
       "\n",
       "    .dataframe thead th {\n",
       "        text-align: right;\n",
       "    }\n",
       "</style>\n",
       "<table border=\"1\" class=\"dataframe\">\n",
       "  <thead>\n",
       "    <tr style=\"text-align: right;\">\n",
       "      <th></th>\n",
       "      <th>index</th>\n",
       "      <th>Job Title</th>\n",
       "      <th>Salary Estimate</th>\n",
       "      <th>Job Description</th>\n",
       "      <th>Rating</th>\n",
       "      <th>Company Name</th>\n",
       "      <th>Location</th>\n",
       "      <th>Headquarters</th>\n",
       "      <th>Size</th>\n",
       "      <th>Founded</th>\n",
       "      <th>Type of ownership</th>\n",
       "      <th>Industry</th>\n",
       "      <th>Sector</th>\n",
       "      <th>Revenue</th>\n",
       "      <th>Competitors</th>\n",
       "    </tr>\n",
       "  </thead>\n",
       "  <tbody>\n",
       "    <tr>\n",
       "      <th>0</th>\n",
       "      <td>0</td>\n",
       "      <td>Business Analyst</td>\n",
       "      <td>Employer Provided Salary:$72K - $98K</td>\n",
       "      <td>1Starr Enterprises is hiring a Business Analys...</td>\n",
       "      <td>-1.0</td>\n",
       "      <td>1Starr</td>\n",
       "      <td>Remote</td>\n",
       "      <td>-1</td>\n",
       "      <td>-1</td>\n",
       "      <td>-1</td>\n",
       "      <td>-1</td>\n",
       "      <td>-1</td>\n",
       "      <td>-1</td>\n",
       "      <td>-1</td>\n",
       "      <td>-1</td>\n",
       "    </tr>\n",
       "    <tr>\n",
       "      <th>1</th>\n",
       "      <td>1</td>\n",
       "      <td>Entry Level Data Conversion Analyst</td>\n",
       "      <td>$35K - $71K (Glassdoor est.)</td>\n",
       "      <td>As the Data Conversion Analyst, you will be co...</td>\n",
       "      <td>3.4</td>\n",
       "      <td>Reynolds and Reynolds\\n3.4</td>\n",
       "      <td>Dayton, OH</td>\n",
       "      <td>-1</td>\n",
       "      <td>1001 to 5000 Employees</td>\n",
       "      <td>1866</td>\n",
       "      <td>Company - Private</td>\n",
       "      <td>Computer Hardware &amp; Software</td>\n",
       "      <td>Information Technology</td>\n",
       "      <td>$2 to $5 billion (USD)</td>\n",
       "      <td>-1</td>\n",
       "    </tr>\n",
       "    <tr>\n",
       "      <th>2</th>\n",
       "      <td>2</td>\n",
       "      <td>Junior Data Analyst</td>\n",
       "      <td>Employer Provided Salary:$30K</td>\n",
       "      <td>About Avalanche\\nAvalanche is transforming how...</td>\n",
       "      <td>-1.0</td>\n",
       "      <td>Avalanche</td>\n",
       "      <td>Remote</td>\n",
       "      <td>-1</td>\n",
       "      <td>-1</td>\n",
       "      <td>-1</td>\n",
       "      <td>-1</td>\n",
       "      <td>-1</td>\n",
       "      <td>-1</td>\n",
       "      <td>-1</td>\n",
       "      <td>-1</td>\n",
       "    </tr>\n",
       "    <tr>\n",
       "      <th>3</th>\n",
       "      <td>3</td>\n",
       "      <td>Senior Data Analyst with Visualization (No spo...</td>\n",
       "      <td>$63K - $149K (Glassdoor est.)</td>\n",
       "      <td>Senior Data Analyst with Visualization (No spo...</td>\n",
       "      <td>3.7</td>\n",
       "      <td>HCL Technologies\\n3.7</td>\n",
       "      <td>Burlingame, CA</td>\n",
       "      <td>-1</td>\n",
       "      <td>10000+ Employees</td>\n",
       "      <td>1991</td>\n",
       "      <td>Company - Public</td>\n",
       "      <td>Computer Hardware &amp; Software</td>\n",
       "      <td>Information Technology</td>\n",
       "      <td>$5 to $10 billion (USD)</td>\n",
       "      <td>-1</td>\n",
       "    </tr>\n",
       "    <tr>\n",
       "      <th>4</th>\n",
       "      <td>4</td>\n",
       "      <td>Data Analyst</td>\n",
       "      <td>$43K - $88K (Glassdoor est.)</td>\n",
       "      <td>Dematic is looking for a Data Analyst that wil...</td>\n",
       "      <td>3.8</td>\n",
       "      <td>Dematic\\n3.8</td>\n",
       "      <td>Atlanta, GA</td>\n",
       "      <td>-1</td>\n",
       "      <td>5001 to 10000 Employees</td>\n",
       "      <td>1819</td>\n",
       "      <td>Subsidiary or Business Segment</td>\n",
       "      <td>Logistics &amp; Supply Chain</td>\n",
       "      <td>Transportation &amp; Logistics</td>\n",
       "      <td>Unknown / Non-Applicable</td>\n",
       "      <td>-1</td>\n",
       "    </tr>\n",
       "  </tbody>\n",
       "</table>\n",
       "</div>"
      ],
      "text/plain": [
       "   index                                          Job Title  \\\n",
       "0      0                                   Business Analyst   \n",
       "1      1                Entry Level Data Conversion Analyst   \n",
       "2      2                                Junior Data Analyst   \n",
       "3      3  Senior Data Analyst with Visualization (No spo...   \n",
       "4      4                                       Data Analyst   \n",
       "\n",
       "                        Salary Estimate  \\\n",
       "0  Employer Provided Salary:$72K - $98K   \n",
       "1          $35K - $71K (Glassdoor est.)   \n",
       "2         Employer Provided Salary:$30K   \n",
       "3         $63K - $149K (Glassdoor est.)   \n",
       "4          $43K - $88K (Glassdoor est.)   \n",
       "\n",
       "                                     Job Description  Rating  \\\n",
       "0  1Starr Enterprises is hiring a Business Analys...    -1.0   \n",
       "1  As the Data Conversion Analyst, you will be co...     3.4   \n",
       "2  About Avalanche\\nAvalanche is transforming how...    -1.0   \n",
       "3  Senior Data Analyst with Visualization (No spo...     3.7   \n",
       "4  Dematic is looking for a Data Analyst that wil...     3.8   \n",
       "\n",
       "                 Company Name        Location  Headquarters  \\\n",
       "0                      1Starr          Remote            -1   \n",
       "1  Reynolds and Reynolds\\n3.4      Dayton, OH            -1   \n",
       "2                   Avalanche          Remote            -1   \n",
       "3       HCL Technologies\\n3.7  Burlingame, CA            -1   \n",
       "4                Dematic\\n3.8     Atlanta, GA            -1   \n",
       "\n",
       "                      Size Founded               Type of ownership  \\\n",
       "0                       -1      -1                              -1   \n",
       "1   1001 to 5000 Employees    1866               Company - Private   \n",
       "2                       -1      -1                              -1   \n",
       "3         10000+ Employees    1991                Company - Public   \n",
       "4  5001 to 10000 Employees    1819  Subsidiary or Business Segment   \n",
       "\n",
       "                       Industry                      Sector  \\\n",
       "0                            -1                          -1   \n",
       "1  Computer Hardware & Software      Information Technology   \n",
       "2                            -1                          -1   \n",
       "3  Computer Hardware & Software      Information Technology   \n",
       "4      Logistics & Supply Chain  Transportation & Logistics   \n",
       "\n",
       "                    Revenue  Competitors  \n",
       "0                        -1           -1  \n",
       "1    $2 to $5 billion (USD)           -1  \n",
       "2                        -1           -1  \n",
       "3   $5 to $10 billion (USD)           -1  \n",
       "4  Unknown / Non-Applicable           -1  "
      ]
     },
     "execution_count": 1,
     "metadata": {},
     "output_type": "execute_result"
    }
   ],
   "source": [
    "import pandas as pd\n",
    "\n",
    "df = pd.read_csv('glassdoor_jobs.csv')\n",
    "df.head(5)"
   ]
  },
  {
   "cell_type": "code",
   "execution_count": 2,
   "id": "f4872be2",
   "metadata": {},
   "outputs": [
    {
     "data": {
      "text/plain": [
       "(1000, 15)"
      ]
     },
     "execution_count": 2,
     "metadata": {},
     "output_type": "execute_result"
    }
   ],
   "source": [
    "df.shape"
   ]
  },
  {
   "cell_type": "code",
   "execution_count": 3,
   "id": "b07f27e6",
   "metadata": {},
   "outputs": [
    {
     "name": "stdout",
     "output_type": "stream",
     "text": [
      "<class 'pandas.core.frame.DataFrame'>\n",
      "RangeIndex: 1000 entries, 0 to 999\n",
      "Data columns (total 15 columns):\n",
      " #   Column             Non-Null Count  Dtype  \n",
      "---  ------             --------------  -----  \n",
      " 0   index              1000 non-null   int64  \n",
      " 1   Job Title          1000 non-null   object \n",
      " 2   Salary Estimate    1000 non-null   object \n",
      " 3   Job Description    1000 non-null   object \n",
      " 4   Rating             1000 non-null   float64\n",
      " 5   Company Name       1000 non-null   object \n",
      " 6   Location           1000 non-null   object \n",
      " 7   Headquarters       1000 non-null   int64  \n",
      " 8   Size               1000 non-null   object \n",
      " 9   Founded            1000 non-null   object \n",
      " 10  Type of ownership  1000 non-null   object \n",
      " 11  Industry           1000 non-null   object \n",
      " 12  Sector             1000 non-null   object \n",
      " 13  Revenue            1000 non-null   object \n",
      " 14  Competitors        1000 non-null   int64  \n",
      "dtypes: float64(1), int64(3), object(11)\n",
      "memory usage: 117.3+ KB\n"
     ]
    }
   ],
   "source": [
    "df.info()"
   ]
  },
  {
   "cell_type": "code",
   "execution_count": 4,
   "id": "4a823382",
   "metadata": {},
   "outputs": [
    {
     "data": {
      "text/plain": [
       "Index(['index', 'Job Title', 'Salary Estimate', 'Job Description', 'Rating',\n",
       "       'Company Name', 'Location', 'Headquarters', 'Size', 'Founded',\n",
       "       'Type of ownership', 'Industry', 'Sector', 'Revenue', 'Competitors'],\n",
       "      dtype='object')"
      ]
     },
     "execution_count": 4,
     "metadata": {},
     "output_type": "execute_result"
    }
   ],
   "source": [
    "# List of features \n",
    "\n",
    "df.columns"
   ]
  },
  {
   "cell_type": "code",
   "execution_count": 5,
   "id": "32801a3d",
   "metadata": {},
   "outputs": [],
   "source": [
    "# Delete columns containing only -1 values (NaN values)\n",
    "\n",
    "del df['Headquarters']\n",
    "del df['Competitors']\n"
   ]
  },
  {
   "cell_type": "code",
   "execution_count": 6,
   "id": "af70af96",
   "metadata": {},
   "outputs": [],
   "source": [
    "for feature in df.columns:\n",
    "    if df[feature].dtypes == 'O':\n",
    "        df = df[df[feature] != '-1']\n",
    "    else:\n",
    "        df = df[df[feature] != -1 ]\n",
    "        "
   ]
  },
  {
   "cell_type": "code",
   "execution_count": 7,
   "id": "97f6894d",
   "metadata": {},
   "outputs": [
    {
     "data": {
      "text/plain": [
       "(527, 13)"
      ]
     },
     "execution_count": 7,
     "metadata": {},
     "output_type": "execute_result"
    }
   ],
   "source": [
    "df.shape"
   ]
  },
  {
   "cell_type": "code",
   "execution_count": 8,
   "id": "897263a3",
   "metadata": {},
   "outputs": [
    {
     "data": {
      "text/html": [
       "<div>\n",
       "<style scoped>\n",
       "    .dataframe tbody tr th:only-of-type {\n",
       "        vertical-align: middle;\n",
       "    }\n",
       "\n",
       "    .dataframe tbody tr th {\n",
       "        vertical-align: top;\n",
       "    }\n",
       "\n",
       "    .dataframe thead th {\n",
       "        text-align: right;\n",
       "    }\n",
       "</style>\n",
       "<table border=\"1\" class=\"dataframe\">\n",
       "  <thead>\n",
       "    <tr style=\"text-align: right;\">\n",
       "      <th></th>\n",
       "      <th>index</th>\n",
       "      <th>Job Title</th>\n",
       "      <th>Salary Estimate</th>\n",
       "      <th>Job Description</th>\n",
       "      <th>Rating</th>\n",
       "      <th>Company Name</th>\n",
       "      <th>Location</th>\n",
       "      <th>Size</th>\n",
       "      <th>Founded</th>\n",
       "      <th>Type of ownership</th>\n",
       "      <th>Industry</th>\n",
       "      <th>Sector</th>\n",
       "      <th>Revenue</th>\n",
       "    </tr>\n",
       "  </thead>\n",
       "  <tbody>\n",
       "    <tr>\n",
       "      <th>1</th>\n",
       "      <td>1</td>\n",
       "      <td>Entry Level Data Conversion Analyst</td>\n",
       "      <td>$35K - $71K (Glassdoor est.)</td>\n",
       "      <td>As the Data Conversion Analyst, you will be co...</td>\n",
       "      <td>3.4</td>\n",
       "      <td>Reynolds and Reynolds\\n3.4</td>\n",
       "      <td>Dayton, OH</td>\n",
       "      <td>1001 to 5000 Employees</td>\n",
       "      <td>1866</td>\n",
       "      <td>Company - Private</td>\n",
       "      <td>Computer Hardware &amp; Software</td>\n",
       "      <td>Information Technology</td>\n",
       "      <td>$2 to $5 billion (USD)</td>\n",
       "    </tr>\n",
       "    <tr>\n",
       "      <th>3</th>\n",
       "      <td>3</td>\n",
       "      <td>Senior Data Analyst with Visualization (No spo...</td>\n",
       "      <td>$63K - $149K (Glassdoor est.)</td>\n",
       "      <td>Senior Data Analyst with Visualization (No spo...</td>\n",
       "      <td>3.7</td>\n",
       "      <td>HCL Technologies\\n3.7</td>\n",
       "      <td>Burlingame, CA</td>\n",
       "      <td>10000+ Employees</td>\n",
       "      <td>1991</td>\n",
       "      <td>Company - Public</td>\n",
       "      <td>Computer Hardware &amp; Software</td>\n",
       "      <td>Information Technology</td>\n",
       "      <td>$5 to $10 billion (USD)</td>\n",
       "    </tr>\n",
       "  </tbody>\n",
       "</table>\n",
       "</div>"
      ],
      "text/plain": [
       "   index                                          Job Title  \\\n",
       "1      1                Entry Level Data Conversion Analyst   \n",
       "3      3  Senior Data Analyst with Visualization (No spo...   \n",
       "\n",
       "                 Salary Estimate  \\\n",
       "1   $35K - $71K (Glassdoor est.)   \n",
       "3  $63K - $149K (Glassdoor est.)   \n",
       "\n",
       "                                     Job Description  Rating  \\\n",
       "1  As the Data Conversion Analyst, you will be co...     3.4   \n",
       "3  Senior Data Analyst with Visualization (No spo...     3.7   \n",
       "\n",
       "                 Company Name        Location                    Size Founded  \\\n",
       "1  Reynolds and Reynolds\\n3.4      Dayton, OH  1001 to 5000 Employees    1866   \n",
       "3       HCL Technologies\\n3.7  Burlingame, CA        10000+ Employees    1991   \n",
       "\n",
       "   Type of ownership                      Industry                  Sector  \\\n",
       "1  Company - Private  Computer Hardware & Software  Information Technology   \n",
       "3   Company - Public  Computer Hardware & Software  Information Technology   \n",
       "\n",
       "                   Revenue  \n",
       "1   $2 to $5 billion (USD)  \n",
       "3  $5 to $10 billion (USD)  "
      ]
     },
     "execution_count": 8,
     "metadata": {},
     "output_type": "execute_result"
    }
   ],
   "source": [
    "df.head(2)"
   ]
  },
  {
   "cell_type": "code",
   "execution_count": 9,
   "id": "1d560549",
   "metadata": {},
   "outputs": [],
   "source": [
    "# Fixed Salary \n",
    "\n",
    "df['Hourly'] = df['Salary Estimate'].apply(lambda x: 1 if 'per hour' in x.lower() else 0)\n",
    "df['Employer provided'] = df['Salary Estimate'].apply(lambda x: 1 if 'employer provided salary' in x.lower() else 0)\n",
    "\n",
    "fixed_salary = df['Salary Estimate'].apply(lambda x: x.split('(')[0])\n",
    "Minus_kd = fixed_salary.apply(lambda x: x.replace('K','').replace('$',''))\n",
    "Minus_hour_provided = Minus_kd.apply(lambda x: x.lower().replace('per hour','').replace('employer provided salary:',''))\n",
    "\n",
    "df['Min Salary'] = Minus_hour_provided.apply(lambda x: int(x.split('-')[0]))\n",
    "df['Max Salary'] = Minus_hour_provided.apply(lambda x: int(x.split('-')[1]))\n",
    "df['Avg Salary'] = (df['Min Salary']+df['Max Salary'])/2\n",
    "\n"
   ]
  },
  {
   "cell_type": "code",
   "execution_count": 10,
   "id": "5ba2ec3e",
   "metadata": {},
   "outputs": [
    {
     "name": "stdout",
     "output_type": "stream",
     "text": [
      "1    Reynolds and Reynolds\n",
      "3         HCL Technologies\n",
      "Name: Company_text, dtype: object\n"
     ]
    }
   ],
   "source": [
    "# Fixed Company\n",
    "\n",
    "df['Company_text'] = df['Company Name'].apply(lambda x: x.split('\\n')[0])\n",
    "print(df['Company_text'].head(2))"
   ]
  },
  {
   "cell_type": "code",
   "execution_count": 11,
   "id": "026f510d",
   "metadata": {},
   "outputs": [],
   "source": [
    "# Adding features (State, Age)\n",
    "\n",
    "df['State'] = df['Location'].apply(lambda x: x.split(',')[-1])\n",
    "df['Age'] = df['Founded'].apply(lambda x: x if int(x)<1 else 2022-int(x))\n",
    "\n"
   ]
  },
  {
   "cell_type": "code",
   "execution_count": 16,
   "id": "6d05db3d",
   "metadata": {},
   "outputs": [],
   "source": [
    "# Adding other features\n",
    "\n",
    "df['Python'] = df['Job Description'].apply(lambda x: 1 if 'python' in x.lower() else 0)\n",
    "df['Tableau'] = df['Job Description'].apply(lambda x: 1 if 'tableau' in x.lower() else 0)\n",
    "df['Excel'] = df['Job Description'].apply(lambda x: 1 if 'excel' in x.lower() else 0)\n",
    "df['Power BI'] = df['Job Description'].apply(lambda x: 1 if 'power bi' in x.lower() else 0)\n",
    "df['SAS'] = df['Job Description'].apply(lambda x: 1 if 'sas' in x.lower() else 0)\n",
    "df['SQL'] = df['Job Description'].apply(lambda x: 1 if 'sql' in x.lower() else 0)\n",
    "df['SSIS'] = df['Job Description'].apply(lambda x: 1 if 'ssis' in x.lower() else 0)\n"
   ]
  },
  {
   "cell_type": "code",
   "execution_count": 17,
   "id": "e3345b65",
   "metadata": {},
   "outputs": [
    {
     "data": {
      "text/html": [
       "<div>\n",
       "<style scoped>\n",
       "    .dataframe tbody tr th:only-of-type {\n",
       "        vertical-align: middle;\n",
       "    }\n",
       "\n",
       "    .dataframe tbody tr th {\n",
       "        vertical-align: top;\n",
       "    }\n",
       "\n",
       "    .dataframe thead th {\n",
       "        text-align: right;\n",
       "    }\n",
       "</style>\n",
       "<table border=\"1\" class=\"dataframe\">\n",
       "  <thead>\n",
       "    <tr style=\"text-align: right;\">\n",
       "      <th></th>\n",
       "      <th>index</th>\n",
       "      <th>Job Title</th>\n",
       "      <th>Salary Estimate</th>\n",
       "      <th>Job Description</th>\n",
       "      <th>Rating</th>\n",
       "      <th>Company Name</th>\n",
       "      <th>Location</th>\n",
       "      <th>Size</th>\n",
       "      <th>Founded</th>\n",
       "      <th>Type of ownership</th>\n",
       "      <th>...</th>\n",
       "      <th>Company_text</th>\n",
       "      <th>State</th>\n",
       "      <th>Age</th>\n",
       "      <th>Python</th>\n",
       "      <th>Tableau</th>\n",
       "      <th>Excel</th>\n",
       "      <th>Power BI</th>\n",
       "      <th>SAS</th>\n",
       "      <th>SQL</th>\n",
       "      <th>SSIS</th>\n",
       "    </tr>\n",
       "  </thead>\n",
       "  <tbody>\n",
       "    <tr>\n",
       "      <th>1</th>\n",
       "      <td>1</td>\n",
       "      <td>Entry Level Data Conversion Analyst</td>\n",
       "      <td>$35K - $71K (Glassdoor est.)</td>\n",
       "      <td>As the Data Conversion Analyst, you will be co...</td>\n",
       "      <td>3.4</td>\n",
       "      <td>Reynolds and Reynolds\\n3.4</td>\n",
       "      <td>Dayton, OH</td>\n",
       "      <td>1001 to 5000 Employees</td>\n",
       "      <td>1866</td>\n",
       "      <td>Company - Private</td>\n",
       "      <td>...</td>\n",
       "      <td>Reynolds and Reynolds</td>\n",
       "      <td>OH</td>\n",
       "      <td>156</td>\n",
       "      <td>0</td>\n",
       "      <td>0</td>\n",
       "      <td>0</td>\n",
       "      <td>0</td>\n",
       "      <td>0</td>\n",
       "      <td>0</td>\n",
       "      <td>0</td>\n",
       "    </tr>\n",
       "    <tr>\n",
       "      <th>3</th>\n",
       "      <td>3</td>\n",
       "      <td>Senior Data Analyst with Visualization (No spo...</td>\n",
       "      <td>$63K - $149K (Glassdoor est.)</td>\n",
       "      <td>Senior Data Analyst with Visualization (No spo...</td>\n",
       "      <td>3.7</td>\n",
       "      <td>HCL Technologies\\n3.7</td>\n",
       "      <td>Burlingame, CA</td>\n",
       "      <td>10000+ Employees</td>\n",
       "      <td>1991</td>\n",
       "      <td>Company - Public</td>\n",
       "      <td>...</td>\n",
       "      <td>HCL Technologies</td>\n",
       "      <td>CA</td>\n",
       "      <td>31</td>\n",
       "      <td>0</td>\n",
       "      <td>0</td>\n",
       "      <td>0</td>\n",
       "      <td>0</td>\n",
       "      <td>0</td>\n",
       "      <td>0</td>\n",
       "      <td>0</td>\n",
       "    </tr>\n",
       "  </tbody>\n",
       "</table>\n",
       "<p>2 rows × 28 columns</p>\n",
       "</div>"
      ],
      "text/plain": [
       "   index                                          Job Title  \\\n",
       "1      1                Entry Level Data Conversion Analyst   \n",
       "3      3  Senior Data Analyst with Visualization (No spo...   \n",
       "\n",
       "                 Salary Estimate  \\\n",
       "1   $35K - $71K (Glassdoor est.)   \n",
       "3  $63K - $149K (Glassdoor est.)   \n",
       "\n",
       "                                     Job Description  Rating  \\\n",
       "1  As the Data Conversion Analyst, you will be co...     3.4   \n",
       "3  Senior Data Analyst with Visualization (No spo...     3.7   \n",
       "\n",
       "                 Company Name        Location                    Size Founded  \\\n",
       "1  Reynolds and Reynolds\\n3.4      Dayton, OH  1001 to 5000 Employees    1866   \n",
       "3       HCL Technologies\\n3.7  Burlingame, CA        10000+ Employees    1991   \n",
       "\n",
       "   Type of ownership  ...           Company_text State  Age  Python  Tableau  \\\n",
       "1  Company - Private  ...  Reynolds and Reynolds    OH  156       0        0   \n",
       "3   Company - Public  ...       HCL Technologies    CA   31       0        0   \n",
       "\n",
       "   Excel  Power BI  SAS SQL SSIS  \n",
       "1      0         0    0   0    0  \n",
       "3      0         0    0   0    0  \n",
       "\n",
       "[2 rows x 28 columns]"
      ]
     },
     "execution_count": 17,
     "metadata": {},
     "output_type": "execute_result"
    }
   ],
   "source": [
    "df.head(2)"
   ]
  },
  {
   "cell_type": "code",
   "execution_count": 19,
   "id": "6d9f402a",
   "metadata": {},
   "outputs": [
    {
     "data": {
      "text/plain": [
       "Index(['index', 'Job Title', 'Salary Estimate', 'Job Description', 'Rating',\n",
       "       'Company Name', 'Location', 'Size', 'Founded', 'Type of ownership',\n",
       "       'Industry', 'Sector', 'Revenue', 'Hourly', 'Employer provided',\n",
       "       'Min Salary', 'Max Salary', 'Avg Salary', 'Company_text', 'State',\n",
       "       'Age', 'Python', 'Tableau', 'Excel', 'Power BI', 'SAS', 'SQL', 'SSIS'],\n",
       "      dtype='object')"
      ]
     },
     "execution_count": 19,
     "metadata": {},
     "output_type": "execute_result"
    }
   ],
   "source": [
    "df.columns"
   ]
  },
  {
   "cell_type": "code",
   "execution_count": 23,
   "id": "854cada1",
   "metadata": {},
   "outputs": [],
   "source": [
    "df_output = df\n",
    "\n",
    "df_output.to_csv('da_salary_cleaned', index = False)\n"
   ]
  }
 ],
 "metadata": {
  "kernelspec": {
   "display_name": "Python 3 (ipykernel)",
   "language": "python",
   "name": "python3"
  },
  "language_info": {
   "codemirror_mode": {
    "name": "ipython",
    "version": 3
   },
   "file_extension": ".py",
   "mimetype": "text/x-python",
   "name": "python",
   "nbconvert_exporter": "python",
   "pygments_lexer": "ipython3",
   "version": "3.9.7"
  }
 },
 "nbformat": 4,
 "nbformat_minor": 5
}
