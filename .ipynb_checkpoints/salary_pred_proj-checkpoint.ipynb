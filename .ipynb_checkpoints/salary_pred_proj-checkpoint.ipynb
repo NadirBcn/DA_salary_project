{
 "cells": [
  {
   "cell_type": "code",
   "execution_count": 1,
   "id": "bb2390e1",
   "metadata": {},
   "outputs": [],
   "source": [
    "import pandas as pd\n",
    "import glassdoor_scrapper as gs\n",
    "\n"
   ]
  },
  {
   "cell_type": "code",
   "execution_count": 2,
   "id": "f7e0fb46",
   "metadata": {},
   "outputs": [
    {
     "ename": "WebDriverException",
     "evalue": "Message: 'chromedriver' executable needs to be in PATH. Please see https://chromedriver.chromium.org/home\n",
     "output_type": "error",
     "traceback": [
      "\u001b[1;31m---------------------------------------------------------------------------\u001b[0m",
      "\u001b[1;31mFileNotFoundError\u001b[0m                         Traceback (most recent call last)",
      "\u001b[1;32mE:\\anaconda3\\lib\\site-packages\\selenium\\webdriver\\common\\service.py\u001b[0m in \u001b[0;36mstart\u001b[1;34m(self)\u001b[0m\n\u001b[0;32m     70\u001b[0m             \u001b[0mcmd\u001b[0m\u001b[1;33m.\u001b[0m\u001b[0mextend\u001b[0m\u001b[1;33m(\u001b[0m\u001b[0mself\u001b[0m\u001b[1;33m.\u001b[0m\u001b[0mcommand_line_args\u001b[0m\u001b[1;33m(\u001b[0m\u001b[1;33m)\u001b[0m\u001b[1;33m)\u001b[0m\u001b[1;33m\u001b[0m\u001b[1;33m\u001b[0m\u001b[0m\n\u001b[1;32m---> 71\u001b[1;33m             self.process = subprocess.Popen(cmd, env=self.env,\n\u001b[0m\u001b[0;32m     72\u001b[0m                                             \u001b[0mclose_fds\u001b[0m\u001b[1;33m=\u001b[0m\u001b[0msystem\u001b[0m\u001b[1;33m(\u001b[0m\u001b[1;33m)\u001b[0m \u001b[1;33m!=\u001b[0m \u001b[1;34m'Windows'\u001b[0m\u001b[1;33m,\u001b[0m\u001b[1;33m\u001b[0m\u001b[1;33m\u001b[0m\u001b[0m\n",
      "\u001b[1;32mE:\\anaconda3\\lib\\subprocess.py\u001b[0m in \u001b[0;36m__init__\u001b[1;34m(self, args, bufsize, executable, stdin, stdout, stderr, preexec_fn, close_fds, shell, cwd, env, universal_newlines, startupinfo, creationflags, restore_signals, start_new_session, pass_fds, user, group, extra_groups, encoding, errors, text, umask)\u001b[0m\n\u001b[0;32m    950\u001b[0m \u001b[1;33m\u001b[0m\u001b[0m\n\u001b[1;32m--> 951\u001b[1;33m             self._execute_child(args, executable, preexec_fn, close_fds,\n\u001b[0m\u001b[0;32m    952\u001b[0m                                 \u001b[0mpass_fds\u001b[0m\u001b[1;33m,\u001b[0m \u001b[0mcwd\u001b[0m\u001b[1;33m,\u001b[0m \u001b[0menv\u001b[0m\u001b[1;33m,\u001b[0m\u001b[1;33m\u001b[0m\u001b[1;33m\u001b[0m\u001b[0m\n",
      "\u001b[1;32mE:\\anaconda3\\lib\\subprocess.py\u001b[0m in \u001b[0;36m_execute_child\u001b[1;34m(self, args, executable, preexec_fn, close_fds, pass_fds, cwd, env, startupinfo, creationflags, shell, p2cread, p2cwrite, c2pread, c2pwrite, errread, errwrite, unused_restore_signals, unused_gid, unused_gids, unused_uid, unused_umask, unused_start_new_session)\u001b[0m\n\u001b[0;32m   1419\u001b[0m             \u001b[1;32mtry\u001b[0m\u001b[1;33m:\u001b[0m\u001b[1;33m\u001b[0m\u001b[1;33m\u001b[0m\u001b[0m\n\u001b[1;32m-> 1420\u001b[1;33m                 hp, ht, pid, tid = _winapi.CreateProcess(executable, args,\n\u001b[0m\u001b[0;32m   1421\u001b[0m                                          \u001b[1;31m# no special security\u001b[0m\u001b[1;33m\u001b[0m\u001b[1;33m\u001b[0m\u001b[0m\n",
      "\u001b[1;31mFileNotFoundError\u001b[0m: [WinError 2] Le fichier spécifié est introuvable",
      "\nDuring handling of the above exception, another exception occurred:\n",
      "\u001b[1;31mWebDriverException\u001b[0m                        Traceback (most recent call last)",
      "\u001b[1;32m~\\AppData\\Local\\Temp/ipykernel_6748/3533141527.py\u001b[0m in \u001b[0;36m<module>\u001b[1;34m\u001b[0m\n\u001b[0;32m      1\u001b[0m \u001b[0mpath\u001b[0m \u001b[1;33m=\u001b[0m \u001b[1;34m\"C:/Users/Nadir/Desktop/B/Projects/perfumer_salary_proj/chromedriver\"\u001b[0m\u001b[1;33m\u001b[0m\u001b[1;33m\u001b[0m\u001b[0m\n\u001b[1;32m----> 2\u001b[1;33m \u001b[0mdf\u001b[0m \u001b[1;33m=\u001b[0m \u001b[0mgs\u001b[0m\u001b[1;33m.\u001b[0m\u001b[0mget_jobs\u001b[0m\u001b[1;33m(\u001b[0m\u001b[1;34m'data analyst'\u001b[0m\u001b[1;33m,\u001b[0m \u001b[1;36m5\u001b[0m\u001b[1;33m,\u001b[0m \u001b[1;32mFalse\u001b[0m\u001b[1;33m,\u001b[0m \u001b[0mpath\u001b[0m\u001b[1;33m,\u001b[0m \u001b[1;36m15\u001b[0m\u001b[1;33m)\u001b[0m\u001b[1;33m\u001b[0m\u001b[1;33m\u001b[0m\u001b[0m\n\u001b[0m",
      "\u001b[1;32m~\\Desktop\\B\\Projects\\salary_project\\glassdoor_scrapper.py\u001b[0m in \u001b[0;36mget_jobs\u001b[1;34m(keyword, num_jobs, verbose, path, slp_time)\u001b[0m\n\u001b[0;32m     20\u001b[0m \u001b[1;33m\u001b[0m\u001b[0m\n\u001b[0;32m     21\u001b[0m     \u001b[1;31m#Change the path to where chromedriver is in your home folder.\u001b[0m\u001b[1;33m\u001b[0m\u001b[1;33m\u001b[0m\u001b[0m\n\u001b[1;32m---> 22\u001b[1;33m     \u001b[0mdriver\u001b[0m \u001b[1;33m=\u001b[0m \u001b[0mwebdriver\u001b[0m\u001b[1;33m.\u001b[0m\u001b[0mChrome\u001b[0m\u001b[1;33m(\u001b[0m\u001b[0mexecutable_path\u001b[0m\u001b[1;33m=\u001b[0m\u001b[0mpath\u001b[0m\u001b[1;33m,\u001b[0m \u001b[0moptions\u001b[0m\u001b[1;33m=\u001b[0m\u001b[0moptions\u001b[0m\u001b[1;33m)\u001b[0m\u001b[1;33m\u001b[0m\u001b[1;33m\u001b[0m\u001b[0m\n\u001b[0m\u001b[0;32m     23\u001b[0m     \u001b[0mdriver\u001b[0m\u001b[1;33m.\u001b[0m\u001b[0mset_window_size\u001b[0m\u001b[1;33m(\u001b[0m\u001b[1;36m1120\u001b[0m\u001b[1;33m,\u001b[0m \u001b[1;36m1000\u001b[0m\u001b[1;33m)\u001b[0m\u001b[1;33m\u001b[0m\u001b[1;33m\u001b[0m\u001b[0m\n\u001b[0;32m     24\u001b[0m \u001b[1;33m\u001b[0m\u001b[0m\n",
      "\u001b[1;32mE:\\anaconda3\\lib\\site-packages\\selenium\\webdriver\\chrome\\webdriver.py\u001b[0m in \u001b[0;36m__init__\u001b[1;34m(self, executable_path, port, options, service_args, desired_capabilities, service_log_path, chrome_options, service, keep_alive)\u001b[0m\n\u001b[0;32m     68\u001b[0m             \u001b[0mservice\u001b[0m \u001b[1;33m=\u001b[0m \u001b[0mService\u001b[0m\u001b[1;33m(\u001b[0m\u001b[0mexecutable_path\u001b[0m\u001b[1;33m,\u001b[0m \u001b[0mport\u001b[0m\u001b[1;33m,\u001b[0m \u001b[0mservice_args\u001b[0m\u001b[1;33m,\u001b[0m \u001b[0mservice_log_path\u001b[0m\u001b[1;33m)\u001b[0m\u001b[1;33m\u001b[0m\u001b[1;33m\u001b[0m\u001b[0m\n\u001b[0;32m     69\u001b[0m \u001b[1;33m\u001b[0m\u001b[0m\n\u001b[1;32m---> 70\u001b[1;33m         super(WebDriver, self).__init__(DesiredCapabilities.CHROME['browserName'], \"goog\",\n\u001b[0m\u001b[0;32m     71\u001b[0m                                         \u001b[0mport\u001b[0m\u001b[1;33m,\u001b[0m \u001b[0moptions\u001b[0m\u001b[1;33m,\u001b[0m\u001b[1;33m\u001b[0m\u001b[1;33m\u001b[0m\u001b[0m\n\u001b[0;32m     72\u001b[0m                                         \u001b[0mservice_args\u001b[0m\u001b[1;33m,\u001b[0m \u001b[0mdesired_capabilities\u001b[0m\u001b[1;33m,\u001b[0m\u001b[1;33m\u001b[0m\u001b[1;33m\u001b[0m\u001b[0m\n",
      "\u001b[1;32mE:\\anaconda3\\lib\\site-packages\\selenium\\webdriver\\chromium\\webdriver.py\u001b[0m in \u001b[0;36m__init__\u001b[1;34m(self, browser_name, vendor_prefix, port, options, service_args, desired_capabilities, service_log_path, service, keep_alive)\u001b[0m\n\u001b[0;32m     88\u001b[0m \u001b[1;33m\u001b[0m\u001b[0m\n\u001b[0;32m     89\u001b[0m         \u001b[0mself\u001b[0m\u001b[1;33m.\u001b[0m\u001b[0mservice\u001b[0m \u001b[1;33m=\u001b[0m \u001b[0mservice\u001b[0m\u001b[1;33m\u001b[0m\u001b[1;33m\u001b[0m\u001b[0m\n\u001b[1;32m---> 90\u001b[1;33m         \u001b[0mself\u001b[0m\u001b[1;33m.\u001b[0m\u001b[0mservice\u001b[0m\u001b[1;33m.\u001b[0m\u001b[0mstart\u001b[0m\u001b[1;33m(\u001b[0m\u001b[1;33m)\u001b[0m\u001b[1;33m\u001b[0m\u001b[1;33m\u001b[0m\u001b[0m\n\u001b[0m\u001b[0;32m     91\u001b[0m \u001b[1;33m\u001b[0m\u001b[0m\n\u001b[0;32m     92\u001b[0m         \u001b[1;32mtry\u001b[0m\u001b[1;33m:\u001b[0m\u001b[1;33m\u001b[0m\u001b[1;33m\u001b[0m\u001b[0m\n",
      "\u001b[1;32mE:\\anaconda3\\lib\\site-packages\\selenium\\webdriver\\common\\service.py\u001b[0m in \u001b[0;36mstart\u001b[1;34m(self)\u001b[0m\n\u001b[0;32m     79\u001b[0m         \u001b[1;32mexcept\u001b[0m \u001b[0mOSError\u001b[0m \u001b[1;32mas\u001b[0m \u001b[0merr\u001b[0m\u001b[1;33m:\u001b[0m\u001b[1;33m\u001b[0m\u001b[1;33m\u001b[0m\u001b[0m\n\u001b[0;32m     80\u001b[0m             \u001b[1;32mif\u001b[0m \u001b[0merr\u001b[0m\u001b[1;33m.\u001b[0m\u001b[0merrno\u001b[0m \u001b[1;33m==\u001b[0m \u001b[0merrno\u001b[0m\u001b[1;33m.\u001b[0m\u001b[0mENOENT\u001b[0m\u001b[1;33m:\u001b[0m\u001b[1;33m\u001b[0m\u001b[1;33m\u001b[0m\u001b[0m\n\u001b[1;32m---> 81\u001b[1;33m                 raise WebDriverException(\n\u001b[0m\u001b[0;32m     82\u001b[0m                     \"'%s' executable needs to be in PATH. %s\" % (\n\u001b[0;32m     83\u001b[0m                         os.path.basename(self.path), self.start_error_message)\n",
      "\u001b[1;31mWebDriverException\u001b[0m: Message: 'chromedriver' executable needs to be in PATH. Please see https://chromedriver.chromium.org/home\n"
     ]
    }
   ],
   "source": [
    "path = \"C:/Users/Nadir/Desktop/B/Projects/salary_proj/chromedriver\"\n",
    "df = gs.get_jobs('data analyst', 5, False, path, 15)"
   ]
  },
  {
   "cell_type": "code",
   "execution_count": 3,
   "id": "d64b3f25",
   "metadata": {},
   "outputs": [
    {
     "name": "stdout",
     "output_type": "stream",
     "text": [
      "   index                  Job Title  \\\n",
      "0      0   Entry Level Data Analyst   \n",
      "1      1            BI Data Analyst   \n",
      "2      2        Junior Data Analyst   \n",
      "3      3  Junior level Data Analyst   \n",
      "4      4               Data Analyst   \n",
      "5      5           Business Analyst   \n",
      "6      6  Data Analyst – Data Entry   \n",
      "7      7  Data Analyst I (226 Days)   \n",
      "8      8         Data Entry Analyst   \n",
      "9      9            BI Data Analyst   \n",
      "\n",
      "                               Salary Estimate  \\\n",
      "0         Employer Provided Salary:$70K - $80K   \n",
      "1  Employer Provided Salary:$60 - $80 Per Hour   \n",
      "2                Employer Provided Salary:$30K   \n",
      "3  Employer Provided Salary:$27 - $35 Per Hour   \n",
      "4                $60K - $116K (Glassdoor est.)   \n",
      "5         Employer Provided Salary:$72K - $98K   \n",
      "6                                           -1   \n",
      "7                Employer Provided Salary:$62K   \n",
      "8  Employer Provided Salary:$21 - $41 Per Hour   \n",
      "9  Employer Provided Salary:$65 - $70 Per Hour   \n",
      "\n",
      "                                     Job Description Rating  \\\n",
      "0  Description:\\nTechnical Skills:\\nPower BI, SQL...     -1   \n",
      "1  Data Analyst with Power BI\\nLocation: Texas\\nD...     -1   \n",
      "2  About Avalanche\\nAvalanche is transforming how...     -1   \n",
      "3  We are seeking entry level Data Analyst's to b...     -1   \n",
      "4  ROLE TITLE\\nData Analyst (Data Warehouse)\\n\\nR...    4.8   \n",
      "5  1Starr Enterprises is hiring a Business Analys...     -1   \n",
      "6  Note: While this is a fully remote position, w...    4.6   \n",
      "7  Data Analyst I (226 Days) -(RTP20220222-027)\\n...    3.3   \n",
      "8  We are looking for a Data Entry Analyst to typ...    3.5   \n",
      "9  Title: Sr. BI Data Analyst\\nLocation: Remote\\n...     -1   \n",
      "\n",
      "                              Company Name       Location  Headquarters  \\\n",
      "0                           Talentheed Inc   San Jose, CA            -1   \n",
      "1                              Workcog inc         Remote            -1   \n",
      "2                                Avalanche         Remote            -1   \n",
      "3                                  TRESUME    Ashburn, VA            -1   \n",
      "4                   NR Consulting LLC\\n4.8   Purchase, NY            -1   \n",
      "5                                   1Starr         Remote            -1   \n",
      "6                            Juristat\\n4.6         Remote            -1   \n",
      "7  Dallas Independent School District\\n3.3     Dallas, TX            -1   \n",
      "8                     Newegg Staffing\\n3.5  Inglewood, CA            -1   \n",
      "9                           Jayes Tech LLC         Remote            -1   \n",
      "\n",
      "                   Size           Founded  \\\n",
      "0                    -1                -1   \n",
      "1                    -1                -1   \n",
      "2                    -1                -1   \n",
      "3                    -1                -1   \n",
      "4  201 to 500 Employees              2017   \n",
      "5                    -1                -1   \n",
      "6     1 to 50 Employees              2012   \n",
      "7      10000+ Employees              1867   \n",
      "8               Unknown  Company - Public   \n",
      "9               Unknown  Company - Public   \n",
      "\n",
      "                                   Type of ownership  \\\n",
      "0                                                 -1   \n",
      "1                                                 -1   \n",
      "2                                                 -1   \n",
      "3                                                 -1   \n",
      "4  <selenium.webdriver.remote.webelement.WebEleme...   \n",
      "5                                                 -1   \n",
      "6  <selenium.webdriver.remote.webelement.WebEleme...   \n",
      "7  <selenium.webdriver.remote.webelement.WebEleme...   \n",
      "8  <selenium.webdriver.remote.webelement.WebEleme...   \n",
      "9  <selenium.webdriver.remote.webelement.WebEleme...   \n",
      "\n",
      "                                  Industry                  Sector  \\\n",
      "0                                       -1                      -1   \n",
      "1                                       -1                      -1   \n",
      "2                                       -1                      -1   \n",
      "3                                       -1                      -1   \n",
      "4                              IT Services  Information Technology   \n",
      "5                                       -1                      -1   \n",
      "6  Enterprise Software & Network Solutions  Information Technology   \n",
      "7                   Preschool & Child Care               Education   \n",
      "8                                       -1                      -1   \n",
      "9                                       -1                      -1   \n",
      "\n",
      "                    Revenue  Competitors  \n",
      "0                        -1           -1  \n",
      "1                        -1           -1  \n",
      "2                        -1           -1  \n",
      "3                        -1           -1  \n",
      "4  Unknown / Non-Applicable           -1  \n",
      "5                        -1           -1  \n",
      "6  Unknown / Non-Applicable           -1  \n",
      "7    $1 to $2 billion (USD)           -1  \n",
      "8                        -1           -1  \n",
      "9                        -1           -1  \n"
     ]
    }
   ],
   "source": [
    "print(df)"
   ]
  },
  {
   "cell_type": "code",
   "execution_count": null,
   "id": "8bd98914",
   "metadata": {},
   "outputs": [],
   "source": []
  }
 ],
 "metadata": {
  "kernelspec": {
   "display_name": "Python 3 (ipykernel)",
   "language": "python",
   "name": "python3"
  },
  "language_info": {
   "codemirror_mode": {
    "name": "ipython",
    "version": 3
   },
   "file_extension": ".py",
   "mimetype": "text/x-python",
   "name": "python",
   "nbconvert_exporter": "python",
   "pygments_lexer": "ipython3",
   "version": "3.9.7"
  }
 },
 "nbformat": 4,
 "nbformat_minor": 5
}
