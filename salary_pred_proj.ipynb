{
 "cells": [
  {
   "cell_type": "code",
   "execution_count": 2,
   "id": "bb2390e1",
   "metadata": {},
   "outputs": [],
   "source": [
    "import pandas as pd\n",
    "import glassdoor_scrapper as gs\n",
    "\n"
   ]
  },
  {
   "cell_type": "code",
   "execution_count": 3,
   "id": "f7e0fb46",
   "metadata": {},
   "outputs": [
    {
     "name": "stdout",
     "output_type": "stream",
     "text": [
      "Progress: 0/10\n",
      "Progress: 1/10\n",
      "Progress: 2/10\n",
      "Progress: 3/10\n",
      "Progress: 4/10\n",
      "Progress: 5/10\n",
      "Progress: 6/10\n",
      "Progress: 7/10\n",
      "Progress: 8/10\n",
      "Progress: 9/10\n",
      "Progress: 10/10\n",
      "Scraping terminated before reaching target number of jobs. Needed 10, got 10.\n"
     ]
    }
   ],
   "source": [
    "path = \"C:/Users/Nadir/Desktop/B/Projects/salary_project/chromedriver\"\n",
    "df = gs.get_jobs('data analyst', 10, False, path, 15)\n"
   ]
  },
  {
   "cell_type": "code",
   "execution_count": 5,
   "id": "d64b3f25",
   "metadata": {},
   "outputs": [
    {
     "name": "stdout",
     "output_type": "stream",
     "text": [
      "   index                       Job Title  \\\n",
      "0      0                 BI Data Analyst   \n",
      "1      1        Entry Level Data Analyst   \n",
      "2      2             Junior Data Analyst   \n",
      "3      3       Junior level Data Analyst   \n",
      "4      4                SAS Data Analyst   \n",
      "5      5                 BI Data Analyst   \n",
      "6      6         Data Conversion Analyst   \n",
      "7      7  Tableau Developer/Data Analyst   \n",
      "8      8              Data Analyst - SLC   \n",
      "9      9           Data Engineer/Analyst   \n",
      "\n",
      "                               Salary Estimate  \\\n",
      "0  Employer Provided Salary:$60 - $80 Per Hour   \n",
      "1         Employer Provided Salary:$70K - $80K   \n",
      "2                Employer Provided Salary:$30K   \n",
      "3  Employer Provided Salary:$27 - $35 Per Hour   \n",
      "4        Employer Provided Salary:$70K - $100K   \n",
      "5  Employer Provided Salary:$65 - $70 Per Hour   \n",
      "6  Employer Provided Salary:$70 - $75 Per Hour   \n",
      "7         Employer Provided Salary:$68K - $75K   \n",
      "8         Employer Provided Salary:$60K - $80K   \n",
      "9         Employer Provided Salary:$60K - $93K   \n",
      "\n",
      "                                     Job Description Rating  \\\n",
      "0  Data Analyst with Power BI\\nLocation: Texas\\nD...     -1   \n",
      "1  Description:\\nTechnical Skills:\\nPower BI, SQL...     -1   \n",
      "2  About Avalanche\\nAvalanche is transforming how...     -1   \n",
      "3  We are seeking entry level Data Analyst's to b...     -1   \n",
      "4  We are looking for a passionate certified Data...     -1   \n",
      "5  Title: Sr. BI Data Analyst\\nLocation: Remote\\n...     -1   \n",
      "6  Data conversion through Salesforce and MS Azur...     -1   \n",
      "7  As a Data Analyst, you’ll work with some of th...    3.7   \n",
      "8  Join Our Mission:\\nCarePoint Health is an inno...    3.4   \n",
      "9  Client is looking for a Data Engineer (or) Ana...    2.7   \n",
      "\n",
      "                          Company Name            Location  Headquarters  \\\n",
      "0                          Workcog inc              Remote            -1   \n",
      "1                       Talentheed Inc        San Jose, CA            -1   \n",
      "2                            Avalanche              Remote            -1   \n",
      "3                              TRESUME         Ashburn, VA            -1   \n",
      "4                          Emonics LLC              Remote            -1   \n",
      "5                       Jayes Tech LLC              Remote            -1   \n",
      "6                          Radcube LLC              Remote            -1   \n",
      "7                              VB\\n3.7              Remote            -1   \n",
      "8                CarePoint Health\\n3.4  Salt Lake City, UT            -1   \n",
      "9  First Soft Solutions [ Direct]\\n2.7          Denver, CO            -1   \n",
      "\n",
      "                   Size            Founded                 Type of ownership  \\\n",
      "0                    -1                 -1                                -1   \n",
      "1                    -1                 -1                                -1   \n",
      "2                    -1                 -1                                -1   \n",
      "3                    -1                 -1                                -1   \n",
      "4                    -1                 -1                                -1   \n",
      "5               Unknown   Company - Public          Unknown / Non-Applicable   \n",
      "6                    -1                 -1                                -1   \n",
      "7  201 to 500 Employees               1996                 Company - Private   \n",
      "8  201 to 500 Employees  Company - Private  Health Care Services & Hospitals   \n",
      "9   51 to 200 Employees               2006                 Company - Private   \n",
      "\n",
      "                   Industry                   Sector  \\\n",
      "0                        -1                       -1   \n",
      "1                        -1                       -1   \n",
      "2                        -1                       -1   \n",
      "3                        -1                       -1   \n",
      "4                        -1                       -1   \n",
      "5                        -1                       -1   \n",
      "6                        -1                       -1   \n",
      "7  Unknown / Non-Applicable                       -1   \n",
      "8               Health Care  $5 to $10 million (USD)   \n",
      "9                Accounting       Accounting & Legal   \n",
      "\n",
      "                    Revenue  Competitors  \n",
      "0                        -1           -1  \n",
      "1                        -1           -1  \n",
      "2                        -1           -1  \n",
      "3                        -1           -1  \n",
      "4                        -1           -1  \n",
      "5                        -1           -1  \n",
      "6                        -1           -1  \n",
      "7                        -1           -1  \n",
      "8                        -1           -1  \n",
      "9  $10 to $25 million (USD)           -1  \n"
     ]
    }
   ],
   "source": [
    "df.to_csv('glassdoor_jobs.csv',index= False)\n",
    "print(df)"
   ]
  },
  {
   "cell_type": "code",
   "execution_count": null,
   "id": "8bd98914",
   "metadata": {},
   "outputs": [],
   "source": []
  }
 ],
 "metadata": {
  "kernelspec": {
   "display_name": "Python 3 (ipykernel)",
   "language": "python",
   "name": "python3"
  },
  "language_info": {
   "codemirror_mode": {
    "name": "ipython",
    "version": 3
   },
   "file_extension": ".py",
   "mimetype": "text/x-python",
   "name": "python",
   "nbconvert_exporter": "python",
   "pygments_lexer": "ipython3",
   "version": "3.9.7"
  }
 },
 "nbformat": 4,
 "nbformat_minor": 5
}
