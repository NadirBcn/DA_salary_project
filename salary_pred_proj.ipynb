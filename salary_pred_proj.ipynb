{
 "cells": [
  {
   "cell_type": "code",
   "execution_count": 1,
   "id": "bb2390e1",
   "metadata": {},
   "outputs": [],
   "source": [
    "import pandas as pd\n",
    "import kenjee_scrapper as gs\n",
    "\n"
   ]
  },
  {
   "cell_type": "code",
   "execution_count": 2,
   "id": "f7e0fb46",
   "metadata": {},
   "outputs": [
    {
     "name": "stdout",
     "output_type": "stream",
     "text": [
      "Progress: 0/10\n",
      "Progress: 1/10\n",
      "Progress: 2/10\n",
      "Progress: 3/10\n",
      "Progress: 4/10\n",
      "Progress: 5/10\n",
      "Progress: 6/10\n",
      "Progress: 7/10\n",
      "Progress: 8/10\n",
      "Progress: 9/10\n",
      "Progress: 10/10\n",
      "Scraping terminated before reaching target number of jobs. Needed 10, got 10.\n"
     ]
    }
   ],
   "source": [
    "path = \"C:/Users/Nadir/Desktop/B/Projects/perfumer_salary_proj/chromedriver\"\n",
    "df = gs.get_jobs('data analyst', 10, False, path, 15)"
   ]
  },
  {
   "cell_type": "code",
   "execution_count": 3,
   "id": "d64b3f25",
   "metadata": {},
   "outputs": [
    {
     "name": "stdout",
     "output_type": "stream",
     "text": [
      "   index                  Job Title  \\\n",
      "0      0   Entry Level Data Analyst   \n",
      "1      1            BI Data Analyst   \n",
      "2      2        Junior Data Analyst   \n",
      "3      3  Junior level Data Analyst   \n",
      "4      4               Data Analyst   \n",
      "5      5           Business Analyst   \n",
      "6      6  Data Analyst – Data Entry   \n",
      "7      7  Data Analyst I (226 Days)   \n",
      "8      8         Data Entry Analyst   \n",
      "9      9            BI Data Analyst   \n",
      "\n",
      "                               Salary Estimate  \\\n",
      "0         Employer Provided Salary:$70K - $80K   \n",
      "1  Employer Provided Salary:$60 - $80 Per Hour   \n",
      "2                Employer Provided Salary:$30K   \n",
      "3  Employer Provided Salary:$27 - $35 Per Hour   \n",
      "4                $60K - $116K (Glassdoor est.)   \n",
      "5         Employer Provided Salary:$72K - $98K   \n",
      "6                                           -1   \n",
      "7                Employer Provided Salary:$62K   \n",
      "8  Employer Provided Salary:$21 - $41 Per Hour   \n",
      "9  Employer Provided Salary:$65 - $70 Per Hour   \n",
      "\n",
      "                                     Job Description Rating  \\\n",
      "0  Description:\\nTechnical Skills:\\nPower BI, SQL...     -1   \n",
      "1  Data Analyst with Power BI\\nLocation: Texas\\nD...     -1   \n",
      "2  About Avalanche\\nAvalanche is transforming how...     -1   \n",
      "3  We are seeking entry level Data Analyst's to b...     -1   \n",
      "4  ROLE TITLE\\nData Analyst (Data Warehouse)\\n\\nR...    4.8   \n",
      "5  1Starr Enterprises is hiring a Business Analys...     -1   \n",
      "6  Note: While this is a fully remote position, w...    4.6   \n",
      "7  Data Analyst I (226 Days) -(RTP20220222-027)\\n...    3.3   \n",
      "8  We are looking for a Data Entry Analyst to typ...    3.5   \n",
      "9  Title: Sr. BI Data Analyst\\nLocation: Remote\\n...     -1   \n",
      "\n",
      "                              Company Name       Location  Headquarters  \\\n",
      "0                           Talentheed Inc   San Jose, CA            -1   \n",
      "1                              Workcog inc         Remote            -1   \n",
      "2                                Avalanche         Remote            -1   \n",
      "3                                  TRESUME    Ashburn, VA            -1   \n",
      "4                   NR Consulting LLC\\n4.8   Purchase, NY            -1   \n",
      "5                                   1Starr         Remote            -1   \n",
      "6                            Juristat\\n4.6         Remote            -1   \n",
      "7  Dallas Independent School District\\n3.3     Dallas, TX            -1   \n",
      "8                     Newegg Staffing\\n3.5  Inglewood, CA            -1   \n",
      "9                           Jayes Tech LLC         Remote            -1   \n",
      "\n",
      "                   Size           Founded  \\\n",
      "0                    -1                -1   \n",
      "1                    -1                -1   \n",
      "2                    -1                -1   \n",
      "3                    -1                -1   \n",
      "4  201 to 500 Employees              2017   \n",
      "5                    -1                -1   \n",
      "6     1 to 50 Employees              2012   \n",
      "7      10000+ Employees              1867   \n",
      "8               Unknown  Company - Public   \n",
      "9               Unknown  Company - Public   \n",
      "\n",
      "                                   Type of ownership  \\\n",
      "0                                                 -1   \n",
      "1                                                 -1   \n",
      "2                                                 -1   \n",
      "3                                                 -1   \n",
      "4  <selenium.webdriver.remote.webelement.WebEleme...   \n",
      "5                                                 -1   \n",
      "6  <selenium.webdriver.remote.webelement.WebEleme...   \n",
      "7  <selenium.webdriver.remote.webelement.WebEleme...   \n",
      "8  <selenium.webdriver.remote.webelement.WebEleme...   \n",
      "9  <selenium.webdriver.remote.webelement.WebEleme...   \n",
      "\n",
      "                                  Industry                  Sector  \\\n",
      "0                                       -1                      -1   \n",
      "1                                       -1                      -1   \n",
      "2                                       -1                      -1   \n",
      "3                                       -1                      -1   \n",
      "4                              IT Services  Information Technology   \n",
      "5                                       -1                      -1   \n",
      "6  Enterprise Software & Network Solutions  Information Technology   \n",
      "7                   Preschool & Child Care               Education   \n",
      "8                                       -1                      -1   \n",
      "9                                       -1                      -1   \n",
      "\n",
      "                    Revenue  Competitors  \n",
      "0                        -1           -1  \n",
      "1                        -1           -1  \n",
      "2                        -1           -1  \n",
      "3                        -1           -1  \n",
      "4  Unknown / Non-Applicable           -1  \n",
      "5                        -1           -1  \n",
      "6  Unknown / Non-Applicable           -1  \n",
      "7    $1 to $2 billion (USD)           -1  \n",
      "8                        -1           -1  \n",
      "9                        -1           -1  \n"
     ]
    }
   ],
   "source": [
    "print(df)"
   ]
  },
  {
   "cell_type": "code",
   "execution_count": null,
   "id": "8bd98914",
   "metadata": {},
   "outputs": [],
   "source": []
  }
 ],
 "metadata": {
  "kernelspec": {
   "display_name": "Python 3 (ipykernel)",
   "language": "python",
   "name": "python3"
  },
  "language_info": {
   "codemirror_mode": {
    "name": "ipython",
    "version": 3
   },
   "file_extension": ".py",
   "mimetype": "text/x-python",
   "name": "python",
   "nbconvert_exporter": "python",
   "pygments_lexer": "ipython3",
   "version": "3.9.7"
  }
 },
 "nbformat": 4,
 "nbformat_minor": 5
}
