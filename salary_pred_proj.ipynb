{
 "cells": [
  {
   "cell_type": "code",
   "execution_count": 1,
   "id": "bb2390e1",
   "metadata": {},
   "outputs": [],
   "source": [
    "import pandas as pd\n",
    "import glassdoor_scrapper as gs\n",
    "\n"
   ]
  },
  {
   "cell_type": "code",
   "execution_count": 4,
   "id": "f7e0fb46",
   "metadata": {},
   "outputs": [
    {
     "name": "stdout",
     "output_type": "stream",
     "text": [
      "Progress: 0/5\n",
      "Progress: 1/5\n",
      "Progress: 2/5\n",
      "Progress: 3/5\n",
      "Progress: 4/5\n",
      "Progress: 5/5\n",
      "Scraping terminated before reaching target number of jobs. Needed 5, got 5.\n"
     ]
    }
   ],
   "source": [
    "path = \"C:/Users/Nadir/Desktop/B/Projects/salary_project/chromedriver\"\n",
    "df = gs.get_jobs('data analyst', 5, False, path, 15)"
   ]
  },
  {
   "cell_type": "code",
   "execution_count": 5,
   "id": "d64b3f25",
   "metadata": {},
   "outputs": [
    {
     "name": "stdout",
     "output_type": "stream",
     "text": [
      "   index                  Job Title  \\\n",
      "0      0            BI Data Analyst   \n",
      "1      1   Entry Level Data Analyst   \n",
      "2      2        Junior Data Analyst   \n",
      "3      3  Junior level Data Analyst   \n",
      "4      4           SAS Data Analyst   \n",
      "\n",
      "                               Salary Estimate  \\\n",
      "0  Employer Provided Salary:$60 - $80 Per Hour   \n",
      "1         Employer Provided Salary:$70K - $80K   \n",
      "2                Employer Provided Salary:$30K   \n",
      "3  Employer Provided Salary:$27 - $35 Per Hour   \n",
      "4        Employer Provided Salary:$70K - $100K   \n",
      "\n",
      "                                     Job Description  Rating    Company Name  \\\n",
      "0  Data Analyst with Power BI\\nLocation: Texas\\nD...      -1     Workcog inc   \n",
      "1  Description:\\nTechnical Skills:\\nPower BI, SQL...      -1  Talentheed Inc   \n",
      "2  About Avalanche\\nAvalanche is transforming how...      -1       Avalanche   \n",
      "3  We are seeking entry level Data Analyst's to b...      -1         TRESUME   \n",
      "4  We are looking for a passionate certified Data...      -1     Emonics LLC   \n",
      "\n",
      "       Location  Headquarters  Size  Founded  Type of ownership  Industry  \\\n",
      "0        Remote            -1    -1       -1                 -1        -1   \n",
      "1  San Jose, CA            -1    -1       -1                 -1        -1   \n",
      "2        Remote            -1    -1       -1                 -1        -1   \n",
      "3   Ashburn, VA            -1    -1       -1                 -1        -1   \n",
      "4        Remote            -1    -1       -1                 -1        -1   \n",
      "\n",
      "   Sector  Revenue  Competitors  \n",
      "0      -1       -1           -1  \n",
      "1      -1       -1           -1  \n",
      "2      -1       -1           -1  \n",
      "3      -1       -1           -1  \n",
      "4      -1       -1           -1  \n"
     ]
    }
   ],
   "source": [
    "print(df)"
   ]
  },
  {
   "cell_type": "code",
   "execution_count": null,
   "id": "8bd98914",
   "metadata": {},
   "outputs": [],
   "source": []
  }
 ],
 "metadata": {
  "kernelspec": {
   "display_name": "Python 3 (ipykernel)",
   "language": "python",
   "name": "python3"
  },
  "language_info": {
   "codemirror_mode": {
    "name": "ipython",
    "version": 3
   },
   "file_extension": ".py",
   "mimetype": "text/x-python",
   "name": "python",
   "nbconvert_exporter": "python",
   "pygments_lexer": "ipython3",
   "version": "3.9.7"
  }
 },
 "nbformat": 4,
 "nbformat_minor": 5
}
