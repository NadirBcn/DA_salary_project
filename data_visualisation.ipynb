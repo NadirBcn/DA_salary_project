{
 "cells": [
  {
   "cell_type": "code",
   "execution_count": 1,
   "id": "9384e1f9",
   "metadata": {},
   "outputs": [],
   "source": [
    "import pandas as pd\n",
    "import matplotlib.pyplot as plt\n",
    "import seaborn as sns"
   ]
  },
  {
   "cell_type": "code",
   "execution_count": 2,
   "id": "52eed410",
   "metadata": {},
   "outputs": [
    {
     "data": {
      "text/html": [
       "<div>\n",
       "<style scoped>\n",
       "    .dataframe tbody tr th:only-of-type {\n",
       "        vertical-align: middle;\n",
       "    }\n",
       "\n",
       "    .dataframe tbody tr th {\n",
       "        vertical-align: top;\n",
       "    }\n",
       "\n",
       "    .dataframe thead th {\n",
       "        text-align: right;\n",
       "    }\n",
       "</style>\n",
       "<table border=\"1\" class=\"dataframe\">\n",
       "  <thead>\n",
       "    <tr style=\"text-align: right;\">\n",
       "      <th></th>\n",
       "      <th>index</th>\n",
       "      <th>Job Title</th>\n",
       "      <th>Salary Estimate</th>\n",
       "      <th>Job Description</th>\n",
       "      <th>Rating</th>\n",
       "      <th>Company Name</th>\n",
       "      <th>Location</th>\n",
       "      <th>Size</th>\n",
       "      <th>Founded</th>\n",
       "      <th>Type of ownership</th>\n",
       "      <th>...</th>\n",
       "      <th>Company_text</th>\n",
       "      <th>State</th>\n",
       "      <th>Age</th>\n",
       "      <th>Python</th>\n",
       "      <th>Tableau</th>\n",
       "      <th>Excel</th>\n",
       "      <th>Power BI</th>\n",
       "      <th>SAS</th>\n",
       "      <th>SQL</th>\n",
       "      <th>SSIS</th>\n",
       "    </tr>\n",
       "  </thead>\n",
       "  <tbody>\n",
       "    <tr>\n",
       "      <th>0</th>\n",
       "      <td>1</td>\n",
       "      <td>Entry Level Data Conversion Analyst</td>\n",
       "      <td>$35K - $71K (Glassdoor est.)</td>\n",
       "      <td>As the Data Conversion Analyst, you will be co...</td>\n",
       "      <td>3.4</td>\n",
       "      <td>Reynolds and Reynolds\\r\\n3.4</td>\n",
       "      <td>Dayton, OH</td>\n",
       "      <td>1001 to 5000 Employees</td>\n",
       "      <td>1866</td>\n",
       "      <td>Company - Private</td>\n",
       "      <td>...</td>\n",
       "      <td>Reynolds and Reynolds</td>\n",
       "      <td>OH</td>\n",
       "      <td>156</td>\n",
       "      <td>0</td>\n",
       "      <td>0</td>\n",
       "      <td>0</td>\n",
       "      <td>0</td>\n",
       "      <td>0</td>\n",
       "      <td>0</td>\n",
       "      <td>0</td>\n",
       "    </tr>\n",
       "    <tr>\n",
       "      <th>1</th>\n",
       "      <td>3</td>\n",
       "      <td>Senior Data Analyst with Visualization (No spo...</td>\n",
       "      <td>$63K - $149K (Glassdoor est.)</td>\n",
       "      <td>Senior Data Analyst with Visualization (No spo...</td>\n",
       "      <td>3.7</td>\n",
       "      <td>HCL Technologies\\r\\n3.7</td>\n",
       "      <td>Burlingame, CA</td>\n",
       "      <td>10000+ Employees</td>\n",
       "      <td>1991</td>\n",
       "      <td>Company - Public</td>\n",
       "      <td>...</td>\n",
       "      <td>HCL Technologies</td>\n",
       "      <td>CA</td>\n",
       "      <td>31</td>\n",
       "      <td>0</td>\n",
       "      <td>0</td>\n",
       "      <td>0</td>\n",
       "      <td>0</td>\n",
       "      <td>0</td>\n",
       "      <td>0</td>\n",
       "      <td>0</td>\n",
       "    </tr>\n",
       "    <tr>\n",
       "      <th>2</th>\n",
       "      <td>4</td>\n",
       "      <td>Data Analyst</td>\n",
       "      <td>$43K - $88K (Glassdoor est.)</td>\n",
       "      <td>Dematic is looking for a Data Analyst that wil...</td>\n",
       "      <td>3.8</td>\n",
       "      <td>Dematic\\r\\n3.8</td>\n",
       "      <td>Atlanta, GA</td>\n",
       "      <td>5001 to 10000 Employees</td>\n",
       "      <td>1819</td>\n",
       "      <td>Subsidiary or Business Segment</td>\n",
       "      <td>...</td>\n",
       "      <td>Dematic</td>\n",
       "      <td>GA</td>\n",
       "      <td>203</td>\n",
       "      <td>0</td>\n",
       "      <td>0</td>\n",
       "      <td>0</td>\n",
       "      <td>0</td>\n",
       "      <td>0</td>\n",
       "      <td>0</td>\n",
       "      <td>0</td>\n",
       "    </tr>\n",
       "    <tr>\n",
       "      <th>3</th>\n",
       "      <td>5</td>\n",
       "      <td>Data Analyst</td>\n",
       "      <td>Employer Provided Salary:$45 - $65 Per Hour</td>\n",
       "      <td>We are looking for a passionate certified Data...</td>\n",
       "      <td>4.2</td>\n",
       "      <td>WorkCog\\r\\n4.2</td>\n",
       "      <td>Atlanta, GA</td>\n",
       "      <td>51 to 200 Employees</td>\n",
       "      <td>2017</td>\n",
       "      <td>Company - Private</td>\n",
       "      <td>...</td>\n",
       "      <td>WorkCog</td>\n",
       "      <td>GA</td>\n",
       "      <td>5</td>\n",
       "      <td>0</td>\n",
       "      <td>0</td>\n",
       "      <td>0</td>\n",
       "      <td>0</td>\n",
       "      <td>0</td>\n",
       "      <td>0</td>\n",
       "      <td>0</td>\n",
       "    </tr>\n",
       "    <tr>\n",
       "      <th>4</th>\n",
       "      <td>7</td>\n",
       "      <td>North America Data Analyst</td>\n",
       "      <td>$56K - $100K (Glassdoor est.)</td>\n",
       "      <td>This role is responsible for collecting, inter...</td>\n",
       "      <td>4.0</td>\n",
       "      <td>The Coca-Cola Company\\r\\n4.0</td>\n",
       "      <td>Atlanta, GA</td>\n",
       "      <td>10000+ Employees</td>\n",
       "      <td>1886</td>\n",
       "      <td>Company - Public</td>\n",
       "      <td>...</td>\n",
       "      <td>The Coca-Cola Company</td>\n",
       "      <td>GA</td>\n",
       "      <td>136</td>\n",
       "      <td>0</td>\n",
       "      <td>0</td>\n",
       "      <td>1</td>\n",
       "      <td>1</td>\n",
       "      <td>0</td>\n",
       "      <td>0</td>\n",
       "      <td>0</td>\n",
       "    </tr>\n",
       "  </tbody>\n",
       "</table>\n",
       "<p>5 rows × 28 columns</p>\n",
       "</div>"
      ],
      "text/plain": [
       "   index                                          Job Title  \\\n",
       "0      1                Entry Level Data Conversion Analyst   \n",
       "1      3  Senior Data Analyst with Visualization (No spo...   \n",
       "2      4                                       Data Analyst   \n",
       "3      5                                       Data Analyst   \n",
       "4      7                         North America Data Analyst   \n",
       "\n",
       "                               Salary Estimate  \\\n",
       "0                 $35K - $71K (Glassdoor est.)   \n",
       "1                $63K - $149K (Glassdoor est.)   \n",
       "2                 $43K - $88K (Glassdoor est.)   \n",
       "3  Employer Provided Salary:$45 - $65 Per Hour   \n",
       "4                $56K - $100K (Glassdoor est.)   \n",
       "\n",
       "                                     Job Description  Rating  \\\n",
       "0  As the Data Conversion Analyst, you will be co...     3.4   \n",
       "1  Senior Data Analyst with Visualization (No spo...     3.7   \n",
       "2  Dematic is looking for a Data Analyst that wil...     3.8   \n",
       "3  We are looking for a passionate certified Data...     4.2   \n",
       "4  This role is responsible for collecting, inter...     4.0   \n",
       "\n",
       "                   Company Name        Location                     Size  \\\n",
       "0  Reynolds and Reynolds\\r\\n3.4      Dayton, OH   1001 to 5000 Employees   \n",
       "1       HCL Technologies\\r\\n3.7  Burlingame, CA         10000+ Employees   \n",
       "2                Dematic\\r\\n3.8     Atlanta, GA  5001 to 10000 Employees   \n",
       "3                WorkCog\\r\\n4.2     Atlanta, GA      51 to 200 Employees   \n",
       "4  The Coca-Cola Company\\r\\n4.0     Atlanta, GA         10000+ Employees   \n",
       "\n",
       "   Founded               Type of ownership  ...           Company_text State  \\\n",
       "0     1866               Company - Private  ...  Reynolds and Reynolds    OH   \n",
       "1     1991                Company - Public  ...       HCL Technologies    CA   \n",
       "2     1819  Subsidiary or Business Segment  ...                Dematic    GA   \n",
       "3     2017               Company - Private  ...                WorkCog    GA   \n",
       "4     1886                Company - Public  ...  The Coca-Cola Company    GA   \n",
       "\n",
       "   Age  Python  Tableau  Excel  Power BI  SAS SQL SSIS  \n",
       "0  156       0        0      0         0    0   0    0  \n",
       "1   31       0        0      0         0    0   0    0  \n",
       "2  203       0        0      0         0    0   0    0  \n",
       "3    5       0        0      0         0    0   0    0  \n",
       "4  136       0        0      1         1    0   0    0  \n",
       "\n",
       "[5 rows x 28 columns]"
      ]
     },
     "execution_count": 2,
     "metadata": {},
     "output_type": "execute_result"
    }
   ],
   "source": [
    "df = pd.read_csv('da_salary_cleaned.csv')\n",
    "df.head()"
   ]
  },
  {
   "cell_type": "code",
   "execution_count": 3,
   "id": "65a5921f",
   "metadata": {},
   "outputs": [
    {
     "data": {
      "text/plain": [
       "Index(['index', 'Job Title', 'Salary Estimate', 'Job Description', 'Rating',\n",
       "       'Company Name', 'Location', 'Size', 'Founded', 'Type of ownership',\n",
       "       'Industry', 'Sector', 'Revenue', 'Hourly', 'Employer provided',\n",
       "       'Min Salary', 'Max Salary', 'Avg Salary', 'Company_text', 'State',\n",
       "       'Age', 'Python', 'Tableau', 'Excel', 'Power BI', 'SAS', 'SQL', 'SSIS'],\n",
       "      dtype='object')"
      ]
     },
     "execution_count": 3,
     "metadata": {},
     "output_type": "execute_result"
    }
   ],
   "source": [
    "df.columns"
   ]
  },
  {
   "cell_type": "code",
   "execution_count": 4,
   "id": "b3c0aae5",
   "metadata": {},
   "outputs": [],
   "source": [
    "def title_simplifier(title):\n",
    "    if 'data analyst' in title.lower():\n",
    "        return 'data analyst'\n",
    "    elif 'business analyst' in title.lower():\n",
    "        return 'business analyst'\n",
    "    elif 'manager' in title.lower():\n",
    "        return 'manager'\n",
    "    elif 'analytics' in title.lower():\n",
    "        return 'analytics'\n",
    "    elif 'director' in title.lower():\n",
    "        return 'director'\n",
    "    else:\n",
    "        return 'na'\n",
    "    \n",
    "def seniority(title):\n",
    "    if 'sr' in title.lower() or 'senior' in title.lower() or 'principal' in title.lower() or 'lead' in title.lower():\n",
    "        return 'senior'\n",
    "    elif 'jr' in title.lower() or 'jr.' in title.lower() or 'junior' in title.lower():\n",
    "        return 'jr'\n",
    "    else:\n",
    "        return 'na'"
   ]
  },
  {
   "cell_type": "code",
   "execution_count": 5,
   "id": "46436f72",
   "metadata": {},
   "outputs": [],
   "source": [
    "df['Job Simplified'] = df['Job Title'].apply(title_simplifier)\n",
    "df['Seniority'] = df['Job Title'].apply(seniority)"
   ]
  },
  {
   "cell_type": "code",
   "execution_count": 6,
   "id": "408f1269",
   "metadata": {},
   "outputs": [
    {
     "data": {
      "text/plain": [
       "data analyst        353\n",
       "na                  112\n",
       "analytics            38\n",
       "business analyst     24\n",
       "Name: Job Simplified, dtype: int64"
      ]
     },
     "execution_count": 6,
     "metadata": {},
     "output_type": "execute_result"
    }
   ],
   "source": [
    "df['Job Simplified'].value_counts()\n"
   ]
  },
  {
   "cell_type": "code",
   "execution_count": 7,
   "id": "a1e5552b",
   "metadata": {},
   "outputs": [
    {
     "data": {
      "text/plain": [
       "na        450\n",
       "senior     74\n",
       "jr          3\n",
       "Name: Seniority, dtype: int64"
      ]
     },
     "execution_count": 7,
     "metadata": {},
     "output_type": "execute_result"
    }
   ],
   "source": [
    "df['Seniority'].value_counts()"
   ]
  },
  {
   "cell_type": "code",
   "execution_count": 8,
   "id": "6caebe5f",
   "metadata": {},
   "outputs": [],
   "source": [
    "# Fix the California and Alabama in the state feature\n",
    "df['State'] = df['State'].apply(lambda x: x.replace('California','CA').replace('Alabama','AL'))\n",
    "df['State'] = df['State'].apply(lambda x: x.strip() if x.strip().lower()!= 'los angeles' else 'CA')"
   ]
  },
  {
   "cell_type": "code",
   "execution_count": 9,
   "id": "6cd4a34a",
   "metadata": {},
   "outputs": [
    {
     "data": {
      "text/plain": [
       "0       849\n",
       "1       910\n",
       "2       667\n",
       "3       783\n",
       "4      1105\n",
       "       ... \n",
       "522    1105\n",
       "523     849\n",
       "524     667\n",
       "525     872\n",
       "526    1101\n",
       "Name: Desc_length, Length: 527, dtype: int64"
      ]
     },
     "execution_count": 9,
     "metadata": {},
     "output_type": "execute_result"
    }
   ],
   "source": [
    "# Job description length\n",
    "df['Desc_length'] = df['Job Description'].apply(lambda x: len(x))\n",
    "df['Desc_length']"
   ]
  },
  {
   "cell_type": "code",
   "execution_count": 10,
   "id": "cd97a8b6",
   "metadata": {},
   "outputs": [],
   "source": [
    "# Hourly Wage to annual \n",
    "df['Min Salary'] = df.apply(lambda x: x['Min Salary']*2 if x.Hourly==1 else x['Min Salary'],axis=1)\n",
    "df['Max Salary'] = df.apply(lambda x: x['Max Salary']*2 if x.Hourly==1 else x['Max Salary'],axis=1)"
   ]
  },
  {
   "cell_type": "code",
   "execution_count": 11,
   "id": "e0ded40d",
   "metadata": {},
   "outputs": [
    {
     "data": {
      "text/html": [
       "<div>\n",
       "<style scoped>\n",
       "    .dataframe tbody tr th:only-of-type {\n",
       "        vertical-align: middle;\n",
       "    }\n",
       "\n",
       "    .dataframe tbody tr th {\n",
       "        vertical-align: top;\n",
       "    }\n",
       "\n",
       "    .dataframe thead th {\n",
       "        text-align: right;\n",
       "    }\n",
       "</style>\n",
       "<table border=\"1\" class=\"dataframe\">\n",
       "  <thead>\n",
       "    <tr style=\"text-align: right;\">\n",
       "      <th></th>\n",
       "      <th>Hourly</th>\n",
       "      <th>Min Salary</th>\n",
       "      <th>Max Salary</th>\n",
       "    </tr>\n",
       "  </thead>\n",
       "  <tbody>\n",
       "    <tr>\n",
       "      <th>3</th>\n",
       "      <td>1</td>\n",
       "      <td>90</td>\n",
       "      <td>130</td>\n",
       "    </tr>\n",
       "  </tbody>\n",
       "</table>\n",
       "</div>"
      ],
      "text/plain": [
       "   Hourly  Min Salary  Max Salary\n",
       "3       1          90         130"
      ]
     },
     "execution_count": 11,
     "metadata": {},
     "output_type": "execute_result"
    }
   ],
   "source": [
    "df[df['Hourly']==1][['Hourly','Min Salary','Max Salary']]"
   ]
  },
  {
   "cell_type": "markdown",
   "id": "3048c56d",
   "metadata": {},
   "source": [
    " --------------------------------------------------------EDA------------------------------------------------------------------- "
   ]
  },
  {
   "cell_type": "code",
   "execution_count": 12,
   "id": "60c0021e",
   "metadata": {},
   "outputs": [
    {
     "data": {
      "text/html": [
       "<div>\n",
       "<style scoped>\n",
       "    .dataframe tbody tr th:only-of-type {\n",
       "        vertical-align: middle;\n",
       "    }\n",
       "\n",
       "    .dataframe tbody tr th {\n",
       "        vertical-align: top;\n",
       "    }\n",
       "\n",
       "    .dataframe thead th {\n",
       "        text-align: right;\n",
       "    }\n",
       "</style>\n",
       "<table border=\"1\" class=\"dataframe\">\n",
       "  <thead>\n",
       "    <tr style=\"text-align: right;\">\n",
       "      <th></th>\n",
       "      <th>index</th>\n",
       "      <th>Rating</th>\n",
       "      <th>Founded</th>\n",
       "      <th>Hourly</th>\n",
       "      <th>Employer provided</th>\n",
       "      <th>Min Salary</th>\n",
       "      <th>Max Salary</th>\n",
       "      <th>Avg Salary</th>\n",
       "      <th>Age</th>\n",
       "      <th>Python</th>\n",
       "      <th>Tableau</th>\n",
       "      <th>Excel</th>\n",
       "      <th>Power BI</th>\n",
       "      <th>SAS</th>\n",
       "      <th>SQL</th>\n",
       "      <th>SSIS</th>\n",
       "      <th>Desc_length</th>\n",
       "    </tr>\n",
       "  </thead>\n",
       "  <tbody>\n",
       "    <tr>\n",
       "      <th>count</th>\n",
       "      <td>527.000000</td>\n",
       "      <td>527.000000</td>\n",
       "      <td>527.000000</td>\n",
       "      <td>527.000000</td>\n",
       "      <td>527.000000</td>\n",
       "      <td>527.000000</td>\n",
       "      <td>527.000000</td>\n",
       "      <td>527.000000</td>\n",
       "      <td>527.000000</td>\n",
       "      <td>527.000000</td>\n",
       "      <td>527.000000</td>\n",
       "      <td>527.000000</td>\n",
       "      <td>527.000000</td>\n",
       "      <td>527.000000</td>\n",
       "      <td>527.000000</td>\n",
       "      <td>527.000000</td>\n",
       "      <td>527.000000</td>\n",
       "    </tr>\n",
       "    <tr>\n",
       "      <th>mean</th>\n",
       "      <td>505.497154</td>\n",
       "      <td>3.972106</td>\n",
       "      <td>1961.368121</td>\n",
       "      <td>0.001898</td>\n",
       "      <td>0.003795</td>\n",
       "      <td>53.787476</td>\n",
       "      <td>94.313093</td>\n",
       "      <td>73.945920</td>\n",
       "      <td>60.631879</td>\n",
       "      <td>0.022770</td>\n",
       "      <td>0.047438</td>\n",
       "      <td>0.072106</td>\n",
       "      <td>0.058824</td>\n",
       "      <td>0.017078</td>\n",
       "      <td>0.087287</td>\n",
       "      <td>0.104364</td>\n",
       "      <td>848.225806</td>\n",
       "    </tr>\n",
       "    <tr>\n",
       "      <th>std</th>\n",
       "      <td>287.384686</td>\n",
       "      <td>0.382656</td>\n",
       "      <td>58.963619</td>\n",
       "      <td>0.043561</td>\n",
       "      <td>0.061546</td>\n",
       "      <td>8.090293</td>\n",
       "      <td>10.617202</td>\n",
       "      <td>7.823651</td>\n",
       "      <td>58.963619</td>\n",
       "      <td>0.149312</td>\n",
       "      <td>0.212777</td>\n",
       "      <td>0.258910</td>\n",
       "      <td>0.235518</td>\n",
       "      <td>0.129684</td>\n",
       "      <td>0.282523</td>\n",
       "      <td>0.306023</td>\n",
       "      <td>303.926385</td>\n",
       "    </tr>\n",
       "    <tr>\n",
       "      <th>min</th>\n",
       "      <td>1.000000</td>\n",
       "      <td>2.800000</td>\n",
       "      <td>1794.000000</td>\n",
       "      <td>0.000000</td>\n",
       "      <td>0.000000</td>\n",
       "      <td>26.000000</td>\n",
       "      <td>59.000000</td>\n",
       "      <td>42.500000</td>\n",
       "      <td>5.000000</td>\n",
       "      <td>0.000000</td>\n",
       "      <td>0.000000</td>\n",
       "      <td>0.000000</td>\n",
       "      <td>0.000000</td>\n",
       "      <td>0.000000</td>\n",
       "      <td>0.000000</td>\n",
       "      <td>0.000000</td>\n",
       "      <td>128.000000</td>\n",
       "    </tr>\n",
       "    <tr>\n",
       "      <th>25%</th>\n",
       "      <td>244.500000</td>\n",
       "      <td>3.800000</td>\n",
       "      <td>1909.000000</td>\n",
       "      <td>0.000000</td>\n",
       "      <td>0.000000</td>\n",
       "      <td>50.000000</td>\n",
       "      <td>89.000000</td>\n",
       "      <td>69.500000</td>\n",
       "      <td>13.000000</td>\n",
       "      <td>0.000000</td>\n",
       "      <td>0.000000</td>\n",
       "      <td>0.000000</td>\n",
       "      <td>0.000000</td>\n",
       "      <td>0.000000</td>\n",
       "      <td>0.000000</td>\n",
       "      <td>0.000000</td>\n",
       "      <td>667.000000</td>\n",
       "    </tr>\n",
       "    <tr>\n",
       "      <th>50%</th>\n",
       "      <td>510.000000</td>\n",
       "      <td>4.000000</td>\n",
       "      <td>1993.000000</td>\n",
       "      <td>0.000000</td>\n",
       "      <td>0.000000</td>\n",
       "      <td>56.000000</td>\n",
       "      <td>100.000000</td>\n",
       "      <td>78.000000</td>\n",
       "      <td>29.000000</td>\n",
       "      <td>0.000000</td>\n",
       "      <td>0.000000</td>\n",
       "      <td>0.000000</td>\n",
       "      <td>0.000000</td>\n",
       "      <td>0.000000</td>\n",
       "      <td>0.000000</td>\n",
       "      <td>0.000000</td>\n",
       "      <td>905.000000</td>\n",
       "    </tr>\n",
       "    <tr>\n",
       "      <th>75%</th>\n",
       "      <td>757.500000</td>\n",
       "      <td>4.200000</td>\n",
       "      <td>2009.000000</td>\n",
       "      <td>0.000000</td>\n",
       "      <td>0.000000</td>\n",
       "      <td>56.000000</td>\n",
       "      <td>100.000000</td>\n",
       "      <td>78.000000</td>\n",
       "      <td>113.000000</td>\n",
       "      <td>0.000000</td>\n",
       "      <td>0.000000</td>\n",
       "      <td>0.000000</td>\n",
       "      <td>0.000000</td>\n",
       "      <td>0.000000</td>\n",
       "      <td>0.000000</td>\n",
       "      <td>0.000000</td>\n",
       "      <td>1073.000000</td>\n",
       "    </tr>\n",
       "    <tr>\n",
       "      <th>max</th>\n",
       "      <td>999.000000</td>\n",
       "      <td>5.000000</td>\n",
       "      <td>2017.000000</td>\n",
       "      <td>1.000000</td>\n",
       "      <td>1.000000</td>\n",
       "      <td>90.000000</td>\n",
       "      <td>149.000000</td>\n",
       "      <td>106.000000</td>\n",
       "      <td>228.000000</td>\n",
       "      <td>1.000000</td>\n",
       "      <td>1.000000</td>\n",
       "      <td>1.000000</td>\n",
       "      <td>1.000000</td>\n",
       "      <td>1.000000</td>\n",
       "      <td>1.000000</td>\n",
       "      <td>1.000000</td>\n",
       "      <td>2033.000000</td>\n",
       "    </tr>\n",
       "  </tbody>\n",
       "</table>\n",
       "</div>"
      ],
      "text/plain": [
       "            index      Rating      Founded      Hourly  Employer provided  \\\n",
       "count  527.000000  527.000000   527.000000  527.000000         527.000000   \n",
       "mean   505.497154    3.972106  1961.368121    0.001898           0.003795   \n",
       "std    287.384686    0.382656    58.963619    0.043561           0.061546   \n",
       "min      1.000000    2.800000  1794.000000    0.000000           0.000000   \n",
       "25%    244.500000    3.800000  1909.000000    0.000000           0.000000   \n",
       "50%    510.000000    4.000000  1993.000000    0.000000           0.000000   \n",
       "75%    757.500000    4.200000  2009.000000    0.000000           0.000000   \n",
       "max    999.000000    5.000000  2017.000000    1.000000           1.000000   \n",
       "\n",
       "       Min Salary  Max Salary  Avg Salary         Age      Python     Tableau  \\\n",
       "count  527.000000  527.000000  527.000000  527.000000  527.000000  527.000000   \n",
       "mean    53.787476   94.313093   73.945920   60.631879    0.022770    0.047438   \n",
       "std      8.090293   10.617202    7.823651   58.963619    0.149312    0.212777   \n",
       "min     26.000000   59.000000   42.500000    5.000000    0.000000    0.000000   \n",
       "25%     50.000000   89.000000   69.500000   13.000000    0.000000    0.000000   \n",
       "50%     56.000000  100.000000   78.000000   29.000000    0.000000    0.000000   \n",
       "75%     56.000000  100.000000   78.000000  113.000000    0.000000    0.000000   \n",
       "max     90.000000  149.000000  106.000000  228.000000    1.000000    1.000000   \n",
       "\n",
       "            Excel    Power BI         SAS         SQL        SSIS  Desc_length  \n",
       "count  527.000000  527.000000  527.000000  527.000000  527.000000   527.000000  \n",
       "mean     0.072106    0.058824    0.017078    0.087287    0.104364   848.225806  \n",
       "std      0.258910    0.235518    0.129684    0.282523    0.306023   303.926385  \n",
       "min      0.000000    0.000000    0.000000    0.000000    0.000000   128.000000  \n",
       "25%      0.000000    0.000000    0.000000    0.000000    0.000000   667.000000  \n",
       "50%      0.000000    0.000000    0.000000    0.000000    0.000000   905.000000  \n",
       "75%      0.000000    0.000000    0.000000    0.000000    0.000000  1073.000000  \n",
       "max      1.000000    1.000000    1.000000    1.000000    1.000000  2033.000000  "
      ]
     },
     "execution_count": 12,
     "metadata": {},
     "output_type": "execute_result"
    }
   ],
   "source": [
    "df.describe()"
   ]
  },
  {
   "cell_type": "code",
   "execution_count": 13,
   "id": "9b278fd4",
   "metadata": {},
   "outputs": [
    {
     "data": {
      "text/plain": [
       "Index(['index', 'Job Title', 'Salary Estimate', 'Job Description', 'Rating',\n",
       "       'Company Name', 'Location', 'Size', 'Founded', 'Type of ownership',\n",
       "       'Industry', 'Sector', 'Revenue', 'Hourly', 'Employer provided',\n",
       "       'Min Salary', 'Max Salary', 'Avg Salary', 'Company_text', 'State',\n",
       "       'Age', 'Python', 'Tableau', 'Excel', 'Power BI', 'SAS', 'SQL', 'SSIS',\n",
       "       'Job Simplified', 'Seniority', 'Desc_length'],\n",
       "      dtype='object')"
      ]
     },
     "execution_count": 13,
     "metadata": {},
     "output_type": "execute_result"
    }
   ],
   "source": [
    "df.columns"
   ]
  },
  {
   "cell_type": "code",
   "execution_count": 14,
   "id": "c43825d1",
   "metadata": {},
   "outputs": [
    {
     "data": {
      "text/plain": [
       "<AxesSubplot:>"
      ]
     },
     "execution_count": 14,
     "metadata": {},
     "output_type": "execute_result"
    },
    {
     "data": {
      "image/png": "[encoded data removed]",
      "text/plain": [
       "<Figure size 432x288 with 1 Axes>"
      ]
     },
     "metadata": {
      "needs_background": "light"
     },
     "output_type": "display_data"
    }
   ],
   "source": [
    "df['Rating'].hist()"
   ]
  },
  {
   "cell_type": "code",
   "execution_count": 15,
   "id": "23d7d420",
   "metadata": {},
   "outputs": [
    {
     "data": {
      "text/plain": [
       "<AxesSubplot:>"
      ]
     },
     "execution_count": 15,
     "metadata": {},
     "output_type": "execute_result"
    },
    {
     "data": {
      "image/png": "[encoded data removed]",
      "text/plain": [
       "<Figure size 432x288 with 1 Axes>"
      ]
     },
     "metadata": {
      "needs_background": "light"
     },
     "output_type": "display_data"
    }
   ],
   "source": [
    "df['Age'].hist()"
   ]
  },
  {
   "cell_type": "code",
   "execution_count": 16,
   "id": "9fdb886e",
   "metadata": {},
   "outputs": [
    {
     "data": {
      "text/plain": [
       "<AxesSubplot:>"
      ]
     },
     "execution_count": 16,
     "metadata": {},
     "output_type": "execute_result"
    },
    {
     "data": {
      "image/png": "[encoded data removed]",
      "text/plain": [
       "<Figure size 432x288 with 1 Axes>"
      ]
     },
     "metadata": {
      "needs_background": "light"
     },
     "output_type": "display_data"
    }
   ],
   "source": [
    "df['Avg Salary'].hist()"
   ]
  },
  {
   "cell_type": "code",
   "execution_count": 23,
   "id": "87a2ea7d",
   "metadata": {},
   "outputs": [
    {
     "data": {
      "text/plain": [
       "<AxesSubplot:>"
      ]
     },
     "execution_count": 23,
     "metadata": {},
     "output_type": "execute_result"
    },
    {
     "data": {
      "image/png": "[encoded data removed]",
      "text/plain": [
       "<Figure size 432x288 with 1 Axes>"
      ]
     },
     "metadata": {
      "needs_background": "light"
     },
     "output_type": "display_data"
    }
   ],
   "source": [
    "#sns.pairplot(df)\n",
    "\n",
    "df.boxplot(column='Rating')"
   ]
  },
  {
   "cell_type": "code",
   "execution_count": 24,
   "id": "c7ca208e",
   "metadata": {},
   "outputs": [
    {
     "data": {
      "text/html": [
       "<div>\n",
       "<style scoped>\n",
       "    .dataframe tbody tr th:only-of-type {\n",
       "        vertical-align: middle;\n",
       "    }\n",
       "\n",
       "    .dataframe tbody tr th {\n",
       "        vertical-align: top;\n",
       "    }\n",
       "\n",
       "    .dataframe thead th {\n",
       "        text-align: right;\n",
       "    }\n",
       "</style>\n",
       "<table border=\"1\" class=\"dataframe\">\n",
       "  <thead>\n",
       "    <tr style=\"text-align: right;\">\n",
       "      <th></th>\n",
       "      <th>Age</th>\n",
       "      <th>Avg Salary</th>\n",
       "      <th>Rating</th>\n",
       "      <th>Desc_length</th>\n",
       "    </tr>\n",
       "  </thead>\n",
       "  <tbody>\n",
       "    <tr>\n",
       "      <th>Age</th>\n",
       "      <td>1.000000</td>\n",
       "      <td>-0.003905</td>\n",
       "      <td>-0.361813</td>\n",
       "      <td>0.034793</td>\n",
       "    </tr>\n",
       "    <tr>\n",
       "      <th>Avg Salary</th>\n",
       "      <td>-0.003905</td>\n",
       "      <td>1.000000</td>\n",
       "      <td>-0.090965</td>\n",
       "      <td>-0.038036</td>\n",
       "    </tr>\n",
       "    <tr>\n",
       "      <th>Rating</th>\n",
       "      <td>-0.361813</td>\n",
       "      <td>-0.090965</td>\n",
       "      <td>1.000000</td>\n",
       "      <td>0.203252</td>\n",
       "    </tr>\n",
       "    <tr>\n",
       "      <th>Desc_length</th>\n",
       "      <td>0.034793</td>\n",
       "      <td>-0.038036</td>\n",
       "      <td>0.203252</td>\n",
       "      <td>1.000000</td>\n",
       "    </tr>\n",
       "  </tbody>\n",
       "</table>\n",
       "</div>"
      ],
      "text/plain": [
       "                  Age  Avg Salary    Rating  Desc_length\n",
       "Age          1.000000   -0.003905 -0.361813     0.034793\n",
       "Avg Salary  -0.003905    1.000000 -0.090965    -0.038036\n",
       "Rating      -0.361813   -0.090965  1.000000     0.203252\n",
       "Desc_length  0.034793   -0.038036  0.203252     1.000000"
      ]
     },
     "execution_count": 24,
     "metadata": {},
     "output_type": "execute_result"
    }
   ],
   "source": [
    "df[['Age','Avg Salary','Rating','Desc_length']].corr()"
   ]
  },
  {
   "cell_type": "code",
   "execution_count": 29,
   "id": "9edfe4bf",
   "metadata": {},
   "outputs": [
    {
     "data": {
      "text/plain": [
       "<AxesSubplot:>"
      ]
     },
     "execution_count": 29,
     "metadata": {},
     "output_type": "execute_result"
    },
    {
     "data": {
      "image/png": "[encoded data removed]",
      "text/plain": [
       "<Figure size 432x288 with 2 Axes>"
      ]
     },
     "metadata": {
      "needs_background": "light"
     },
     "output_type": "display_data"
    }
   ],
   "source": [
    "#cmap = sns.color_palette(\"summer\", as_cmap=True)\n",
    "cmap = sns.cubehelix_palette(start=.5, rot=-.5, as_cmap=True)\n",
    "\n",
    "sns.heatmap(df[['Age','Avg Salary','Rating','Desc_length']].corr(),vmax=.4,center=0,cmap=cmap,\n",
    "           square=True,linewidths=.5,cbar_kws={\"shrink\":.5})"
   ]
  },
  {
   "cell_type": "code",
   "execution_count": 31,
   "id": "99d5c988",
   "metadata": {},
   "outputs": [
    {
     "data": {
      "text/plain": [
       "Index(['index', 'Job Title', 'Salary Estimate', 'Job Description', 'Rating',\n",
       "       'Company Name', 'Location', 'Size', 'Founded', 'Type of ownership',\n",
       "       'Industry', 'Sector', 'Revenue', 'Hourly', 'Employer provided',\n",
       "       'Min Salary', 'Max Salary', 'Avg Salary', 'Company_text', 'State',\n",
       "       'Age', 'Python', 'Tableau', 'Excel', 'Power BI', 'SAS', 'SQL', 'SSIS',\n",
       "       'Job Simplified', 'Seniority', 'Desc_length'],\n",
       "      dtype='object')"
      ]
     },
     "execution_count": 31,
     "metadata": {},
     "output_type": "execute_result"
    }
   ],
   "source": [
    "df.columns"
   ]
  },
  {
   "cell_type": "code",
   "execution_count": 32,
   "id": "371ee22b",
   "metadata": {},
   "outputs": [],
   "source": [
    "df_categ = df[['Location', 'Size','Type of ownership','Industry', 'Sector', 'Revenue','Company_text', 'State','Python', \n",
    "               'Tableau', 'Excel', 'Power BI', 'SAS', 'SQL', 'SSIS','Job Simplified', 'Seniority']]"
   ]
  },
  {
   "cell_type": "code",
   "execution_count": 49,
   "id": "ec82f08b",
   "metadata": {},
   "outputs": [
    {
     "data": {
      "image/png": "[encoded data removed]",
      "text/plain": [
       "<Figure size 432x288 with 1 Axes>"
      ]
     },
     "metadata": {
      "needs_background": "light"
     },
     "output_type": "display_data"
    },
    {
     "data": {
      "image/png": "[encoded data removed]",
      "text/plain": [
       "<Figure size 432x288 with 1 Axes>"
      ]
     },
     "metadata": {
      "needs_background": "light"
     },
     "output_type": "display_data"
    },
    {
     "data": {
      "image/png": "[encoded data removed]",
      "text/plain": [
       "<Figure size 432x288 with 1 Axes>"
      ]
     },
     "metadata": {
      "needs_background": "light"
     },
     "output_type": "display_data"
    },
    {
     "data": {
      "image/png": "[encoded data removed]",
      "text/plain": [
       "<Figure size 432x288 with 1 Axes>"
      ]
     },
     "metadata": {
      "needs_background": "light"
     },
     "output_type": "display_data"
    },
    {
     "data": {
      "image/png": "[encoded data removed]",
      "text/plain": [
       "<Figure size 432x288 with 1 Axes>"
      ]
     },
     "metadata": {
      "needs_background": "light"
     },
     "output_type": "display_data"
    },
    {
     "data": {
      "image/png": "[encoded data removed]",
      "text/plain": [
       "<Figure size 432x288 with 1 Axes>"
      ]
     },
     "metadata": {
      "needs_background": "light"
     },
     "output_type": "display_data"
    },
    {
     "data": {
      "image/png": "[encoded data removed]",
      "text/plain": [
       "<Figure size 432x288 with 1 Axes>"
      ]
     },
     "metadata": {
      "needs_background": "light"
     },
     "output_type": "display_data"
    },
    {
     "data": {
      "image/png": "[encoded data removed]",
      "text/plain": [
       "<Figure size 432x288 with 1 Axes>"
      ]
     },
     "metadata": {
      "needs_background": "light"
     },
     "output_type": "display_data"
    },
    {
     "data": {
      "image/png": "[encoded data removed]",
      "text/plain": [
       "<Figure size 432x288 with 1 Axes>"
      ]
     },
     "metadata": {
      "needs_background": "light"
     },
     "output_type": "display_data"
    },
    {
     "data": {
      "image/png": "[encoded data removed]",
      "text/plain": [
       "<Figure size 432x288 with 1 Axes>"
      ]
     },
     "metadata": {
      "needs_background": "light"
     },
     "output_type": "display_data"
    },
    {
     "data": {
      "image/png": "[encoded data removed]",
      "text/plain": [
       "<Figure size 432x288 with 1 Axes>"
      ]
     },
     "metadata": {
      "needs_background": "light"
     },
     "output_type": "display_data"
    },
    {
     "data": {
      "image/png": "[encoded data removed]",
      "text/plain": [
       "<Figure size 432x288 with 1 Axes>"
      ]
     },
     "metadata": {
      "needs_background": "light"
     },
     "output_type": "display_data"
    },
    {
     "data": {
      "image/png": "[encoded data removed]",
      "text/plain": [
       "<Figure size 432x288 with 1 Axes>"
      ]
     },
     "metadata": {
      "needs_background": "light"
     },
     "output_type": "display_data"
    },
    {
     "data": {
      "image/png": "[encoded data removed]",
      "text/plain": [
       "<Figure size 432x288 with 1 Axes>"
      ]
     },
     "metadata": {
      "needs_background": "light"
     },
     "output_type": "display_data"
    },
    {
     "data": {
      "image/png": "[encoded data removed]",
      "text/plain": [
       "<Figure size 432x288 with 1 Axes>"
      ]
     },
     "metadata": {
      "needs_background": "light"
     },
     "output_type": "display_data"
    },
    {
     "data": {
      "image/png": "[encoded data removed]",
      "text/plain": [
       "<Figure size 432x288 with 1 Axes>"
      ]
     },
     "metadata": {
      "needs_background": "light"
     },
     "output_type": "display_data"
    },
    {
     "data": {
      "image/png": "[encoded data removed]",
      "text/plain": [
       "<Figure size 432x288 with 1 Axes>"
      ]
     },
     "metadata": {
      "needs_background": "light"
     },
     "output_type": "display_data"
    }
   ],
   "source": [
    "# Can add this palette for the barplots :\n",
    "# cmap = sns.cubehelix_palette(start=.5, rot=-.5, as_cmap=False)\n",
    "# palette=cmap\n",
    "\n",
    "for feature in df_categ.columns:\n",
    "    categ_num = df[feature].value_counts()[:20]           #Get the 20 highest values from each feature\n",
    "    #print(\"Graph for %s, Total : %d\" %(feature,len(categ_num)))\n",
    "    chart = sns.barplot(x = categ_num.index, y =categ_num)    #Plot the 20 highest values from each feature\n",
    "    chart.set_xticklabels(chart.get_xticklabels(),rotation=90) #Rotate the x index to 90 degres \n",
    "    plt.title('Graph for %s'%feature)\n",
    "    plt.show()\n",
    "    "
   ]
  },
  {
   "cell_type": "code",
   "execution_count": 51,
   "id": "726dad50",
   "metadata": {},
   "outputs": [
    {
     "data": {
      "text/html": [
       "<div>\n",
       "<style scoped>\n",
       "    .dataframe tbody tr th:only-of-type {\n",
       "        vertical-align: middle;\n",
       "    }\n",
       "\n",
       "    .dataframe tbody tr th {\n",
       "        vertical-align: top;\n",
       "    }\n",
       "\n",
       "    .dataframe thead th {\n",
       "        text-align: right;\n",
       "    }\n",
       "</style>\n",
       "<table border=\"1\" class=\"dataframe\">\n",
       "  <thead>\n",
       "    <tr style=\"text-align: right;\">\n",
       "      <th></th>\n",
       "      <th></th>\n",
       "      <th>Avg Salary</th>\n",
       "    </tr>\n",
       "    <tr>\n",
       "      <th>Job Simplified</th>\n",
       "      <th>Seniority</th>\n",
       "      <th></th>\n",
       "    </tr>\n",
       "  </thead>\n",
       "  <tbody>\n",
       "    <tr>\n",
       "      <th rowspan=\"2\" valign=\"top\">analytics</th>\n",
       "      <th>na</th>\n",
       "      <td>74.568966</td>\n",
       "    </tr>\n",
       "    <tr>\n",
       "      <th>senior</th>\n",
       "      <td>72.444444</td>\n",
       "    </tr>\n",
       "    <tr>\n",
       "      <th>business analyst</th>\n",
       "      <th>na</th>\n",
       "      <td>72.958333</td>\n",
       "    </tr>\n",
       "    <tr>\n",
       "      <th rowspan=\"3\" valign=\"top\">data analyst</th>\n",
       "      <th>jr</th>\n",
       "      <td>69.500000</td>\n",
       "    </tr>\n",
       "    <tr>\n",
       "      <th>na</th>\n",
       "      <td>74.482201</td>\n",
       "    </tr>\n",
       "    <tr>\n",
       "      <th>senior</th>\n",
       "      <td>74.109756</td>\n",
       "    </tr>\n",
       "    <tr>\n",
       "      <th rowspan=\"2\" valign=\"top\">na</th>\n",
       "      <th>na</th>\n",
       "      <td>72.721591</td>\n",
       "    </tr>\n",
       "    <tr>\n",
       "      <th>senior</th>\n",
       "      <td>72.604167</td>\n",
       "    </tr>\n",
       "  </tbody>\n",
       "</table>\n",
       "</div>"
      ],
      "text/plain": [
       "                            Avg Salary\n",
       "Job Simplified   Seniority            \n",
       "analytics        na          74.568966\n",
       "                 senior      72.444444\n",
       "business analyst na          72.958333\n",
       "data analyst     jr          69.500000\n",
       "                 na          74.482201\n",
       "                 senior      74.109756\n",
       "na               na          72.721591\n",
       "                 senior      72.604167"
      ]
     },
     "execution_count": 51,
     "metadata": {},
     "output_type": "execute_result"
    }
   ],
   "source": [
    "pd.pivot_table(df, index=['Job Simplified','Seniority'], values='Avg Salary')"
   ]
  },
  {
   "cell_type": "code",
   "execution_count": 56,
   "id": "66eeb7ea",
   "metadata": {},
   "outputs": [
    {
     "data": {
      "text/html": [
       "<div>\n",
       "<style scoped>\n",
       "    .dataframe tbody tr th:only-of-type {\n",
       "        vertical-align: middle;\n",
       "    }\n",
       "\n",
       "    .dataframe tbody tr th {\n",
       "        vertical-align: top;\n",
       "    }\n",
       "\n",
       "    .dataframe thead th {\n",
       "        text-align: right;\n",
       "    }\n",
       "</style>\n",
       "<table border=\"1\" class=\"dataframe\">\n",
       "  <thead>\n",
       "    <tr style=\"text-align: right;\">\n",
       "      <th></th>\n",
       "      <th></th>\n",
       "      <th>Avg Salary</th>\n",
       "    </tr>\n",
       "    <tr>\n",
       "      <th>State</th>\n",
       "      <th>Job Simplified</th>\n",
       "      <th></th>\n",
       "    </tr>\n",
       "  </thead>\n",
       "  <tbody>\n",
       "    <tr>\n",
       "      <th>WA</th>\n",
       "      <th>data analyst</th>\n",
       "      <td>81.375000</td>\n",
       "    </tr>\n",
       "    <tr>\n",
       "      <th>VA</th>\n",
       "      <th>data analyst</th>\n",
       "      <td>71.500000</td>\n",
       "    </tr>\n",
       "    <tr>\n",
       "      <th rowspan=\"3\" valign=\"top\">TX</th>\n",
       "      <th>na</th>\n",
       "      <td>72.833333</td>\n",
       "    </tr>\n",
       "    <tr>\n",
       "      <th>data analyst</th>\n",
       "      <td>76.067568</td>\n",
       "    </tr>\n",
       "    <tr>\n",
       "      <th>analytics</th>\n",
       "      <td>72.444444</td>\n",
       "    </tr>\n",
       "    <tr>\n",
       "      <th>TN</th>\n",
       "      <th>data analyst</th>\n",
       "      <td>71.625000</td>\n",
       "    </tr>\n",
       "    <tr>\n",
       "      <th>SC</th>\n",
       "      <th>data analyst</th>\n",
       "      <td>69.500000</td>\n",
       "    </tr>\n",
       "    <tr>\n",
       "      <th rowspan=\"3\" valign=\"top\">Remote</th>\n",
       "      <th>data analyst</th>\n",
       "      <td>73.792683</td>\n",
       "    </tr>\n",
       "    <tr>\n",
       "      <th>analytics</th>\n",
       "      <td>73.477273</td>\n",
       "    </tr>\n",
       "    <tr>\n",
       "      <th>na</th>\n",
       "      <td>73.402778</td>\n",
       "    </tr>\n",
       "    <tr>\n",
       "      <th rowspan=\"2\" valign=\"top\">PA</th>\n",
       "      <th>na</th>\n",
       "      <td>69.500000</td>\n",
       "    </tr>\n",
       "    <tr>\n",
       "      <th>data analyst</th>\n",
       "      <td>69.500000</td>\n",
       "    </tr>\n",
       "    <tr>\n",
       "      <th>OR</th>\n",
       "      <th>data analyst</th>\n",
       "      <td>76.300000</td>\n",
       "    </tr>\n",
       "    <tr>\n",
       "      <th rowspan=\"2\" valign=\"top\">OH</th>\n",
       "      <th>na</th>\n",
       "      <td>73.655172</td>\n",
       "    </tr>\n",
       "    <tr>\n",
       "      <th>data analyst</th>\n",
       "      <td>74.472222</td>\n",
       "    </tr>\n",
       "    <tr>\n",
       "      <th rowspan=\"2\" valign=\"top\">NY</th>\n",
       "      <th>business analyst</th>\n",
       "      <td>72.958333</td>\n",
       "    </tr>\n",
       "    <tr>\n",
       "      <th>data analyst</th>\n",
       "      <td>73.529412</td>\n",
       "    </tr>\n",
       "    <tr>\n",
       "      <th>NM</th>\n",
       "      <th>data analyst</th>\n",
       "      <td>69.500000</td>\n",
       "    </tr>\n",
       "    <tr>\n",
       "      <th>NJ</th>\n",
       "      <th>data analyst</th>\n",
       "      <td>72.767857</td>\n",
       "    </tr>\n",
       "    <tr>\n",
       "      <th>NC</th>\n",
       "      <th>na</th>\n",
       "      <td>42.500000</td>\n",
       "    </tr>\n",
       "    <tr>\n",
       "      <th>MO</th>\n",
       "      <th>data analyst</th>\n",
       "      <td>79.500000</td>\n",
       "    </tr>\n",
       "    <tr>\n",
       "      <th>MI</th>\n",
       "      <th>analytics</th>\n",
       "      <td>78.000000</td>\n",
       "    </tr>\n",
       "    <tr>\n",
       "      <th>MD</th>\n",
       "      <th>data analyst</th>\n",
       "      <td>69.500000</td>\n",
       "    </tr>\n",
       "    <tr>\n",
       "      <th rowspan=\"2\" valign=\"top\">MA</th>\n",
       "      <th>na</th>\n",
       "      <td>70.812500</td>\n",
       "    </tr>\n",
       "    <tr>\n",
       "      <th>data analyst</th>\n",
       "      <td>73.750000</td>\n",
       "    </tr>\n",
       "    <tr>\n",
       "      <th>KS</th>\n",
       "      <th>na</th>\n",
       "      <td>78.000000</td>\n",
       "    </tr>\n",
       "    <tr>\n",
       "      <th rowspan=\"2\" valign=\"top\">IL</th>\n",
       "      <th>na</th>\n",
       "      <td>79.500000</td>\n",
       "    </tr>\n",
       "    <tr>\n",
       "      <th>data analyst</th>\n",
       "      <td>74.500000</td>\n",
       "    </tr>\n",
       "    <tr>\n",
       "      <th>ID</th>\n",
       "      <th>na</th>\n",
       "      <td>72.604167</td>\n",
       "    </tr>\n",
       "    <tr>\n",
       "      <th>GA</th>\n",
       "      <th>data analyst</th>\n",
       "      <td>75.109091</td>\n",
       "    </tr>\n",
       "    <tr>\n",
       "      <th>FL</th>\n",
       "      <th>data analyst</th>\n",
       "      <td>78.375000</td>\n",
       "    </tr>\n",
       "    <tr>\n",
       "      <th>DC</th>\n",
       "      <th>data analyst</th>\n",
       "      <td>78.000000</td>\n",
       "    </tr>\n",
       "    <tr>\n",
       "      <th>CO</th>\n",
       "      <th>data analyst</th>\n",
       "      <td>73.807692</td>\n",
       "    </tr>\n",
       "    <tr>\n",
       "      <th>CA</th>\n",
       "      <th>data analyst</th>\n",
       "      <td>73.783333</td>\n",
       "    </tr>\n",
       "    <tr>\n",
       "      <th>AL</th>\n",
       "      <th>data analyst</th>\n",
       "      <td>78.000000</td>\n",
       "    </tr>\n",
       "  </tbody>\n",
       "</table>\n",
       "</div>"
      ],
      "text/plain": [
       "                         Avg Salary\n",
       "State  Job Simplified              \n",
       "WA     data analyst       81.375000\n",
       "VA     data analyst       71.500000\n",
       "TX     na                 72.833333\n",
       "       data analyst       76.067568\n",
       "       analytics          72.444444\n",
       "TN     data analyst       71.625000\n",
       "SC     data analyst       69.500000\n",
       "Remote data analyst       73.792683\n",
       "       analytics          73.477273\n",
       "       na                 73.402778\n",
       "PA     na                 69.500000\n",
       "       data analyst       69.500000\n",
       "OR     data analyst       76.300000\n",
       "OH     na                 73.655172\n",
       "       data analyst       74.472222\n",
       "NY     business analyst   72.958333\n",
       "       data analyst       73.529412\n",
       "NM     data analyst       69.500000\n",
       "NJ     data analyst       72.767857\n",
       "NC     na                 42.500000\n",
       "MO     data analyst       79.500000\n",
       "MI     analytics          78.000000\n",
       "MD     data analyst       69.500000\n",
       "MA     na                 70.812500\n",
       "       data analyst       73.750000\n",
       "KS     na                 78.000000\n",
       "IL     na                 79.500000\n",
       "       data analyst       74.500000\n",
       "ID     na                 72.604167\n",
       "GA     data analyst       75.109091\n",
       "FL     data analyst       78.375000\n",
       "DC     data analyst       78.000000\n",
       "CO     data analyst       73.807692\n",
       "CA     data analyst       73.783333\n",
       "AL     data analyst       78.000000"
      ]
     },
     "execution_count": 56,
     "metadata": {},
     "output_type": "execute_result"
    }
   ],
   "source": [
    "pd.pivot_table(df, index=['State','Job Simplified'], values='Avg Salary').sort_values('State',ascending=False)"
   ]
  },
  {
   "cell_type": "code",
   "execution_count": 61,
   "id": "96322143",
   "metadata": {},
   "outputs": [
    {
     "data": {
      "text/html": [
       "<div>\n",
       "<style scoped>\n",
       "    .dataframe tbody tr th:only-of-type {\n",
       "        vertical-align: middle;\n",
       "    }\n",
       "\n",
       "    .dataframe tbody tr th {\n",
       "        vertical-align: top;\n",
       "    }\n",
       "\n",
       "    .dataframe thead th {\n",
       "        text-align: right;\n",
       "    }\n",
       "</style>\n",
       "<table border=\"1\" class=\"dataframe\">\n",
       "  <thead>\n",
       "    <tr style=\"text-align: right;\">\n",
       "      <th></th>\n",
       "      <th>Avg Salary</th>\n",
       "    </tr>\n",
       "    <tr>\n",
       "      <th>State</th>\n",
       "      <th></th>\n",
       "    </tr>\n",
       "  </thead>\n",
       "  <tbody>\n",
       "    <tr>\n",
       "      <th>WA</th>\n",
       "      <td>81.375000</td>\n",
       "    </tr>\n",
       "    <tr>\n",
       "      <th>MO</th>\n",
       "      <td>79.500000</td>\n",
       "    </tr>\n",
       "    <tr>\n",
       "      <th>FL</th>\n",
       "      <td>78.375000</td>\n",
       "    </tr>\n",
       "    <tr>\n",
       "      <th>AL</th>\n",
       "      <td>78.000000</td>\n",
       "    </tr>\n",
       "    <tr>\n",
       "      <th>DC</th>\n",
       "      <td>78.000000</td>\n",
       "    </tr>\n",
       "    <tr>\n",
       "      <th>OR</th>\n",
       "      <td>76.300000</td>\n",
       "    </tr>\n",
       "    <tr>\n",
       "      <th>TX</th>\n",
       "      <td>76.067568</td>\n",
       "    </tr>\n",
       "    <tr>\n",
       "      <th>GA</th>\n",
       "      <td>75.109091</td>\n",
       "    </tr>\n",
       "    <tr>\n",
       "      <th>IL</th>\n",
       "      <td>74.500000</td>\n",
       "    </tr>\n",
       "    <tr>\n",
       "      <th>OH</th>\n",
       "      <td>74.472222</td>\n",
       "    </tr>\n",
       "    <tr>\n",
       "      <th>CO</th>\n",
       "      <td>73.807692</td>\n",
       "    </tr>\n",
       "    <tr>\n",
       "      <th>Remote</th>\n",
       "      <td>73.792683</td>\n",
       "    </tr>\n",
       "    <tr>\n",
       "      <th>CA</th>\n",
       "      <td>73.783333</td>\n",
       "    </tr>\n",
       "    <tr>\n",
       "      <th>MA</th>\n",
       "      <td>73.750000</td>\n",
       "    </tr>\n",
       "    <tr>\n",
       "      <th>NY</th>\n",
       "      <td>73.529412</td>\n",
       "    </tr>\n",
       "    <tr>\n",
       "      <th>NJ</th>\n",
       "      <td>72.767857</td>\n",
       "    </tr>\n",
       "    <tr>\n",
       "      <th>TN</th>\n",
       "      <td>71.625000</td>\n",
       "    </tr>\n",
       "    <tr>\n",
       "      <th>VA</th>\n",
       "      <td>71.500000</td>\n",
       "    </tr>\n",
       "    <tr>\n",
       "      <th>MD</th>\n",
       "      <td>69.500000</td>\n",
       "    </tr>\n",
       "    <tr>\n",
       "      <th>PA</th>\n",
       "      <td>69.500000</td>\n",
       "    </tr>\n",
       "    <tr>\n",
       "      <th>SC</th>\n",
       "      <td>69.500000</td>\n",
       "    </tr>\n",
       "    <tr>\n",
       "      <th>NM</th>\n",
       "      <td>69.500000</td>\n",
       "    </tr>\n",
       "  </tbody>\n",
       "</table>\n",
       "</div>"
      ],
      "text/plain": [
       "        Avg Salary\n",
       "State             \n",
       "WA       81.375000\n",
       "MO       79.500000\n",
       "FL       78.375000\n",
       "AL       78.000000\n",
       "DC       78.000000\n",
       "OR       76.300000\n",
       "TX       76.067568\n",
       "GA       75.109091\n",
       "IL       74.500000\n",
       "OH       74.472222\n",
       "CO       73.807692\n",
       "Remote   73.792683\n",
       "CA       73.783333\n",
       "MA       73.750000\n",
       "NY       73.529412\n",
       "NJ       72.767857\n",
       "TN       71.625000\n",
       "VA       71.500000\n",
       "MD       69.500000\n",
       "PA       69.500000\n",
       "SC       69.500000\n",
       "NM       69.500000"
      ]
     },
     "execution_count": 61,
     "metadata": {},
     "output_type": "execute_result"
    }
   ],
   "source": [
    "pd.pivot_table(df[df['Job Simplified'] == 'data analyst'], index='State', values='Avg Salary').sort_values('Avg Salary',ascending=False)"
   ]
  },
  {
   "cell_type": "code",
   "execution_count": null,
   "id": "15763c7c",
   "metadata": {},
   "outputs": [],
   "source": []
  }
 ],
 "metadata": {
  "kernelspec": {
   "display_name": "Python 3 (ipykernel)",
   "language": "python",
   "name": "python3"
  },
  "language_info": {
   "codemirror_mode": {
    "name": "ipython",
    "version": 3
   },
   "file_extension": ".py",
   "mimetype": "text/x-python",
   "name": "python",
   "nbconvert_exporter": "python",
   "pygments_lexer": "ipython3",
   "version": "3.9.7"
  }
 },
 "nbformat": 4,
 "nbformat_minor": 5
}
